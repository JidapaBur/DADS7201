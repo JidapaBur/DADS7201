{
  "nbformat": 4,
  "nbformat_minor": 0,
  "metadata": {
    "orig_nbformat": 2,
    "kernelspec": {
      "name": "python3710jvsc74a57bd0563d867f513b1db22a50c0772d3498166496ad16228d7c1d495fd4c7e7a93ad6",
      "display_name": "Python 3.7.10 64-bit ('graph': conda)"
    },
    "metadata": {
      "interpreter": {
        "hash": "31f2aee4e71d21fbe5cf8b01ff0e069b9275f58929596ceb00d14d90e3e16cd6"
      }
    },
    "colab": {
      "name": "20_modeling_pytoch.ipynb",
      "provenance": [],
      "gpuType": "T4",
      "include_colab_link": true
    },
    "language_info": {
      "name": "python",
      "version": "3.7.10"
    },
    "accelerator": "GPU"
  },
  "cells": [
    {
      "cell_type": "markdown",
      "metadata": {
        "id": "view-in-github",
        "colab_type": "text"
      },
      "source": [
        "<a href=\"https://colab.research.google.com/github/JidapaBur/DADS7201/blob/main/sna/fraud/final/20_modeling_for_students.ipynb\" target=\"_parent\"><img src=\"https://colab.research.google.com/assets/colab-badge.svg\" alt=\"Open In Colab\"/></a>"
      ]
    },
    {
      "cell_type": "markdown",
      "metadata": {
        "id": "4714VKOKo8cK"
      },
      "source": [
        "# Modeling\n",
        "\n",
        "This notebook will guide you through the process of loading heterogeneous graphs and training models. The heterogeneous graph is based on Deep Graph Library (DGL) implementation, and the training process is based on PyTorch implementation.\n",
        "\n",
        "The CPU is recommended for training when the equipment allows it. If you need to use GPU, please install GPU-based DGL separately."
      ]
    },
    {
      "cell_type": "markdown",
      "metadata": {
        "id": "lsBPiu9io8cR"
      },
      "source": [
        "## Colab setting\n",
        "\n",
        "If you want to train in Colab, please run both cells first and mount to the corresponding path."
      ]
    },
    {
      "cell_type": "code",
      "metadata": {
        "colab": {
          "base_uri": "https://localhost:8080/"
        },
        "id": "0AICBHAJHa56",
        "outputId": "25ca985e-3c6b-4fa2-dbf6-26d9aabff68e"
      },
      "source": [
        "from google.colab import drive\n",
        "drive.mount('/content/drive')"
      ],
      "execution_count": 1,
      "outputs": [
        {
          "output_type": "stream",
          "name": "stdout",
          "text": [
            "Mounted at /content/drive\n"
          ]
        }
      ]
    },
    {
      "cell_type": "code",
      "metadata": {
        "colab": {
          "base_uri": "https://localhost:8080/"
        },
        "id": "LtJfGQ6GHh88",
        "outputId": "42e5baa6-1407-43f1-fd82-beae482f0d90"
      },
      "source": [
        "import os\n",
        "cur_path = \"/content/drive/MyDrive/graph-fraud-detection/\"\n",
        "os.chdir(cur_path)\n",
        "!pwd"
      ],
      "execution_count": 2,
      "outputs": [
        {
          "output_type": "stream",
          "name": "stdout",
          "text": [
            "/content/drive/MyDrive/graph-fraud-detection\n"
          ]
        }
      ]
    },
    {
      "cell_type": "code",
      "metadata": {
        "colab": {
          "base_uri": "https://localhost:8080/"
        },
        "id": "aprSAaVaHiEX",
        "outputId": "3d45ec16-19d9-49e2-90e4-cf3112bbd56e",
        "collapsed": true
      },
      "source": [
        "#!pip install dgl # This might install a version compatible with the current PyTorch\n",
        "#!pip install  dgl -f https://data.dgl.ai/wheels/torch-2.3/repo.html\n",
        "!pip install dgl==1.1.2  # Or other version that works without GraphBolt\n",
        "#!pip install --upgrade dgl -f https://data.dgl.ai/wheels/torch-2.4/cu124/repo.html\n",
        "\n",
        "#-cu101"
      ],
      "execution_count": 3,
      "outputs": [
        {
          "output_type": "stream",
          "name": "stdout",
          "text": [
            "Collecting dgl==1.1.2\n",
            "  Downloading dgl-1.1.2-cp311-cp311-manylinux1_x86_64.whl.metadata (530 bytes)\n",
            "Requirement already satisfied: numpy>=1.14.0 in /usr/local/lib/python3.11/dist-packages (from dgl==1.1.2) (2.0.2)\n",
            "Requirement already satisfied: scipy>=1.1.0 in /usr/local/lib/python3.11/dist-packages (from dgl==1.1.2) (1.16.0)\n",
            "Requirement already satisfied: networkx>=2.1 in /usr/local/lib/python3.11/dist-packages (from dgl==1.1.2) (3.5)\n",
            "Requirement already satisfied: requests>=2.19.0 in /usr/local/lib/python3.11/dist-packages (from dgl==1.1.2) (2.32.3)\n",
            "Requirement already satisfied: tqdm in /usr/local/lib/python3.11/dist-packages (from dgl==1.1.2) (4.67.1)\n",
            "Requirement already satisfied: psutil>=5.8.0 in /usr/local/lib/python3.11/dist-packages (from dgl==1.1.2) (5.9.5)\n",
            "Requirement already satisfied: charset-normalizer<4,>=2 in /usr/local/lib/python3.11/dist-packages (from requests>=2.19.0->dgl==1.1.2) (3.4.2)\n",
            "Requirement already satisfied: idna<4,>=2.5 in /usr/local/lib/python3.11/dist-packages (from requests>=2.19.0->dgl==1.1.2) (3.10)\n",
            "Requirement already satisfied: urllib3<3,>=1.21.1 in /usr/local/lib/python3.11/dist-packages (from requests>=2.19.0->dgl==1.1.2) (2.5.0)\n",
            "Requirement already satisfied: certifi>=2017.4.17 in /usr/local/lib/python3.11/dist-packages (from requests>=2.19.0->dgl==1.1.2) (2025.7.14)\n",
            "Downloading dgl-1.1.2-cp311-cp311-manylinux1_x86_64.whl (6.0 MB)\n",
            "\u001b[2K   \u001b[90m━━━━━━━━━━━━━━━━━━━━━━━━━━━━━━━━━━━━━━━━\u001b[0m \u001b[32m6.0/6.0 MB\u001b[0m \u001b[31m45.3 MB/s\u001b[0m eta \u001b[36m0:00:00\u001b[0m\n",
            "\u001b[?25hInstalling collected packages: dgl\n",
            "Successfully installed dgl-1.1.2\n"
          ]
        }
      ]
    },
    {
      "cell_type": "code",
      "source": [
        "!pip install optuna"
      ],
      "metadata": {
        "collapsed": true,
        "id": "BD5SDcXs76Nl",
        "outputId": "6d8a7415-55b8-4ff5-e179-6ebbe8a2d647",
        "colab": {
          "base_uri": "https://localhost:8080/"
        }
      },
      "execution_count": 4,
      "outputs": [
        {
          "output_type": "stream",
          "name": "stdout",
          "text": [
            "Collecting optuna\n",
            "  Downloading optuna-4.4.0-py3-none-any.whl.metadata (17 kB)\n",
            "Collecting alembic>=1.5.0 (from optuna)\n",
            "  Downloading alembic-1.16.4-py3-none-any.whl.metadata (7.3 kB)\n",
            "Collecting colorlog (from optuna)\n",
            "  Downloading colorlog-6.9.0-py3-none-any.whl.metadata (10 kB)\n",
            "Requirement already satisfied: numpy in /usr/local/lib/python3.11/dist-packages (from optuna) (2.0.2)\n",
            "Requirement already satisfied: packaging>=20.0 in /usr/local/lib/python3.11/dist-packages (from optuna) (25.0)\n",
            "Requirement already satisfied: sqlalchemy>=1.4.2 in /usr/local/lib/python3.11/dist-packages (from optuna) (2.0.41)\n",
            "Requirement already satisfied: tqdm in /usr/local/lib/python3.11/dist-packages (from optuna) (4.67.1)\n",
            "Requirement already satisfied: PyYAML in /usr/local/lib/python3.11/dist-packages (from optuna) (6.0.2)\n",
            "Requirement already satisfied: Mako in /usr/lib/python3/dist-packages (from alembic>=1.5.0->optuna) (1.1.3)\n",
            "Requirement already satisfied: typing-extensions>=4.12 in /usr/local/lib/python3.11/dist-packages (from alembic>=1.5.0->optuna) (4.14.1)\n",
            "Requirement already satisfied: greenlet>=1 in /usr/local/lib/python3.11/dist-packages (from sqlalchemy>=1.4.2->optuna) (3.2.3)\n",
            "Downloading optuna-4.4.0-py3-none-any.whl (395 kB)\n",
            "\u001b[2K   \u001b[90m━━━━━━━━━━━━━━━━━━━━━━━━━━━━━━━━━━━━━━━━\u001b[0m \u001b[32m395.9/395.9 kB\u001b[0m \u001b[31m15.4 MB/s\u001b[0m eta \u001b[36m0:00:00\u001b[0m\n",
            "\u001b[?25hDownloading alembic-1.16.4-py3-none-any.whl (247 kB)\n",
            "\u001b[2K   \u001b[90m━━━━━━━━━━━━━━━━━━━━━━━━━━━━━━━━━━━━━━━━\u001b[0m \u001b[32m247.0/247.0 kB\u001b[0m \u001b[31m13.3 MB/s\u001b[0m eta \u001b[36m0:00:00\u001b[0m\n",
            "\u001b[?25hDownloading colorlog-6.9.0-py3-none-any.whl (11 kB)\n",
            "Installing collected packages: colorlog, alembic, optuna\n",
            "Successfully installed alembic-1.16.4 colorlog-6.9.0 optuna-4.4.0\n"
          ]
        }
      ]
    },
    {
      "cell_type": "markdown",
      "metadata": {
        "id": "cgVPj47IMMG4"
      },
      "source": [
        "## Training (All in 1)\n",
        "\n",
        "In this part, you can use this all-in-one method to train the model easily."
      ]
    },
    {
      "cell_type": "code",
      "source": [
        "!python train_origin.py --n-epochs 10\n",
        "#F1: 0.2557, Precision: 0.2568, Recall: 0.2545, Acc: 0.9443, ROC: 0.7703, PR: 0.2243, AP: 0.2243"
      ],
      "metadata": {
        "collapsed": true,
        "id": "t986FyMIEeA-",
        "outputId": "46b345f3-a755-43cb-c462-6c3391c02d54",
        "colab": {
          "base_uri": "https://localhost:8080/"
        }
      },
      "execution_count": null,
      "outputs": [
        {
          "output_type": "stream",
          "name": "stdout",
          "text": [
            "DLG version: 1.1.2\n",
            "numpy version:2.0.2 PyTorch version:2.6.0+cu124 DGL version:1.1.2\n",
            "Namespace(training_dir='./data', predicting_dir='./tdata', model_dir='./model/2025_07_24_16_42_04', model_predict_dir='./model/2025_07_20_08_53_50', output_dir='./output', nodes='features.csv', edges='relation*', labels='tags.csv', new_accounts='test.csv', target_ntype='TransactionID', compute_metrics=True, threshold=0.5, optimizer='adam', lr=0.01, n_epochs=10, n_hidden=16, n_layers=3, weight_decay=0.0005, dropout=0.2, embedding_size=360, weight=None, num_gpus=0)\n",
            "Getting relation graphs from the following edge lists : ['relation_card1_edgelist.csv', 'relation_card2_edgelist.csv', 'relation_card3_edgelist.csv', 'relation_card4_edgelist.csv', 'relation_card5_edgelist.csv', 'relation_card6_edgelist.csv', 'relation_ProductCD_edgelist.csv', 'relation_addr1_edgelist.csv', 'relation_addr2_edgelist.csv', 'relation_P_emaildomain_edgelist.csv', 'relation_R_emaildomain_edgelist.csv', 'relation_TransactionID_edgelist.csv', 'relation_id_01_edgelist.csv', 'relation_id_02_edgelist.csv', 'relation_id_03_edgelist.csv', 'relation_id_04_edgelist.csv', 'relation_id_05_edgelist.csv', 'relation_id_06_edgelist.csv', 'relation_id_07_edgelist.csv', 'relation_id_08_edgelist.csv', 'relation_id_09_edgelist.csv', 'relation_id_10_edgelist.csv', 'relation_id_11_edgelist.csv', 'relation_id_12_edgelist.csv', 'relation_id_13_edgelist.csv', 'relation_id_14_edgelist.csv', 'relation_id_15_edgelist.csv', 'relation_id_16_edgelist.csv', 'relation_id_17_edgelist.csv', 'relation_id_18_edgelist.csv', 'relation_id_19_edgelist.csv', 'relation_id_20_edgelist.csv', 'relation_id_21_edgelist.csv', 'relation_id_22_edgelist.csv', 'relation_id_23_edgelist.csv', 'relation_id_24_edgelist.csv', 'relation_id_25_edgelist.csv', 'relation_id_26_edgelist.csv', 'relation_id_27_edgelist.csv', 'relation_id_28_edgelist.csv', 'relation_id_29_edgelist.csv', 'relation_id_30_edgelist.csv', 'relation_id_31_edgelist.csv', 'relation_id_32_edgelist.csv', 'relation_id_33_edgelist.csv', 'relation_id_34_edgelist.csv', 'relation_id_35_edgelist.csv', 'relation_id_36_edgelist.csv', 'relation_id_37_edgelist.csv', 'relation_id_38_edgelist.csv', 'relation_DeviceType_edgelist.csv', 'relation_DeviceInfo_edgelist.csv'] \n",
            "Read edges for target<card1> from edgelist: ./data/relation_card1_edgelist.csv\n",
            "Read edges for target<card2> from edgelist: ./data/relation_card2_edgelist.csv\n",
            "Read edges for target<card3> from edgelist: ./data/relation_card3_edgelist.csv\n",
            "Read edges for target<card4> from edgelist: ./data/relation_card4_edgelist.csv\n",
            "Read edges for target<card5> from edgelist: ./data/relation_card5_edgelist.csv\n",
            "Read edges for target<card6> from edgelist: ./data/relation_card6_edgelist.csv\n",
            "Read edges for target<ProductCD> from edgelist: ./data/relation_ProductCD_edgelist.csv\n",
            "Read edges for target<addr1> from edgelist: ./data/relation_addr1_edgelist.csv\n",
            "Read edges for target<addr2> from edgelist: ./data/relation_addr2_edgelist.csv\n",
            "Read edges for target<P_emaildomain> from edgelist: ./data/relation_P_emaildomain_edgelist.csv\n",
            "Read edges for target<R_emaildomain> from edgelist: ./data/relation_R_emaildomain_edgelist.csv\n",
            "Will add self loop for target later......\n",
            "Read edges for target<id_01> from edgelist: ./data/relation_id_01_edgelist.csv\n",
            "Read edges for target<id_02> from edgelist: ./data/relation_id_02_edgelist.csv\n",
            "Read edges for target<id_03> from edgelist: ./data/relation_id_03_edgelist.csv\n",
            "Read edges for target<id_04> from edgelist: ./data/relation_id_04_edgelist.csv\n",
            "Read edges for target<id_05> from edgelist: ./data/relation_id_05_edgelist.csv\n",
            "Read edges for target<id_06> from edgelist: ./data/relation_id_06_edgelist.csv\n",
            "Read edges for target<id_07> from edgelist: ./data/relation_id_07_edgelist.csv\n",
            "Read edges for target<id_08> from edgelist: ./data/relation_id_08_edgelist.csv\n",
            "Read edges for target<id_09> from edgelist: ./data/relation_id_09_edgelist.csv\n",
            "Read edges for target<id_10> from edgelist: ./data/relation_id_10_edgelist.csv\n",
            "Read edges for target<id_11> from edgelist: ./data/relation_id_11_edgelist.csv\n",
            "Read edges for target<id_12> from edgelist: ./data/relation_id_12_edgelist.csv\n",
            "Read edges for target<id_13> from edgelist: ./data/relation_id_13_edgelist.csv\n",
            "Read edges for target<id_14> from edgelist: ./data/relation_id_14_edgelist.csv\n",
            "Read edges for target<id_15> from edgelist: ./data/relation_id_15_edgelist.csv\n",
            "Read edges for target<id_16> from edgelist: ./data/relation_id_16_edgelist.csv\n",
            "Read edges for target<id_17> from edgelist: ./data/relation_id_17_edgelist.csv\n",
            "Read edges for target<id_18> from edgelist: ./data/relation_id_18_edgelist.csv\n",
            "Read edges for target<id_19> from edgelist: ./data/relation_id_19_edgelist.csv\n",
            "Read edges for target<id_20> from edgelist: ./data/relation_id_20_edgelist.csv\n",
            "Read edges for target<id_21> from edgelist: ./data/relation_id_21_edgelist.csv\n",
            "Read edges for target<id_22> from edgelist: ./data/relation_id_22_edgelist.csv\n",
            "Read edges for target<id_23> from edgelist: ./data/relation_id_23_edgelist.csv\n",
            "Read edges for target<id_24> from edgelist: ./data/relation_id_24_edgelist.csv\n",
            "Read edges for target<id_25> from edgelist: ./data/relation_id_25_edgelist.csv\n",
            "Read edges for target<id_26> from edgelist: ./data/relation_id_26_edgelist.csv\n",
            "Read edges for target<id_27> from edgelist: ./data/relation_id_27_edgelist.csv\n",
            "Read edges for target<id_28> from edgelist: ./data/relation_id_28_edgelist.csv\n",
            "Read edges for target<id_29> from edgelist: ./data/relation_id_29_edgelist.csv\n",
            "Read edges for target<id_30> from edgelist: ./data/relation_id_30_edgelist.csv\n",
            "Read edges for target<id_31> from edgelist: ./data/relation_id_31_edgelist.csv\n",
            "Read edges for target<id_32> from edgelist: ./data/relation_id_32_edgelist.csv\n",
            "Read edges for target<id_33> from edgelist: ./data/relation_id_33_edgelist.csv\n",
            "Read edges for target<id_34> from edgelist: ./data/relation_id_34_edgelist.csv\n",
            "Read edges for target<id_35> from edgelist: ./data/relation_id_35_edgelist.csv\n",
            "Read edges for target<id_36> from edgelist: ./data/relation_id_36_edgelist.csv\n",
            "Read edges for target<id_37> from edgelist: ./data/relation_id_37_edgelist.csv\n",
            "Read edges for target<id_38> from edgelist: ./data/relation_id_38_edgelist.csv\n",
            "Read edges for target<DeviceType> from edgelist: ./data/relation_DeviceType_edgelist.csv\n",
            "Read edges for target<DeviceInfo> from edgelist: ./data/relation_DeviceInfo_edgelist.csv\n",
            "Read in features for target nodes\n",
            "Constructed heterograph with the following metagraph structure: Node types ['DeviceInfo', 'DeviceType', 'P_emaildomain', 'ProductCD', 'R_emaildomain', 'addr1', 'addr2', 'card1', 'card2', 'card3', 'card4', 'card5', 'card6', 'id_01', 'id_02', 'id_03', 'id_04', 'id_05', 'id_06', 'id_07', 'id_08', 'id_09', 'id_10', 'id_11', 'id_12', 'id_13', 'id_14', 'id_15', 'id_16', 'id_17', 'id_18', 'id_19', 'id_20', 'id_21', 'id_22', 'id_23', 'id_24', 'id_25', 'id_26', 'id_27', 'id_28', 'id_29', 'id_30', 'id_31', 'id_32', 'id_33', 'id_34', 'id_35', 'id_36', 'id_37', 'id_38', 'target'], Edge types[('DeviceInfo', 'DeviceInfo<>target', 'target'), ('DeviceType', 'DeviceType<>target', 'target'), ('P_emaildomain', 'P_emaildomain<>target', 'target'), ('ProductCD', 'ProductCD<>target', 'target'), ('R_emaildomain', 'R_emaildomain<>target', 'target'), ('addr1', 'addr1<>target', 'target'), ('addr2', 'addr2<>target', 'target'), ('card1', 'card1<>target', 'target'), ('card2', 'card2<>target', 'target'), ('card3', 'card3<>target', 'target'), ('card4', 'card4<>target', 'target'), ('card5', 'card5<>target', 'target'), ('card6', 'card6<>target', 'target'), ('id_01', 'id_01<>target', 'target'), ('id_02', 'id_02<>target', 'target'), ('id_03', 'id_03<>target', 'target'), ('id_04', 'id_04<>target', 'target'), ('id_05', 'id_05<>target', 'target'), ('id_06', 'id_06<>target', 'target'), ('id_07', 'id_07<>target', 'target'), ('id_08', 'id_08<>target', 'target'), ('id_09', 'id_09<>target', 'target'), ('id_10', 'id_10<>target', 'target'), ('id_11', 'id_11<>target', 'target'), ('id_12', 'id_12<>target', 'target'), ('id_13', 'id_13<>target', 'target'), ('id_14', 'id_14<>target', 'target'), ('id_15', 'id_15<>target', 'target'), ('id_16', 'id_16<>target', 'target'), ('id_17', 'id_17<>target', 'target'), ('id_18', 'id_18<>target', 'target'), ('id_19', 'id_19<>target', 'target'), ('id_20', 'id_20<>target', 'target'), ('id_21', 'id_21<>target', 'target'), ('id_22', 'id_22<>target', 'target'), ('id_23', 'id_23<>target', 'target'), ('id_24', 'id_24<>target', 'target'), ('id_25', 'id_25<>target', 'target'), ('id_26', 'id_26<>target', 'target'), ('id_27', 'id_27<>target', 'target'), ('id_28', 'id_28<>target', 'target'), ('id_29', 'id_29<>target', 'target'), ('id_30', 'id_30<>target', 'target'), ('id_31', 'id_31<>target', 'target'), ('id_32', 'id_32<>target', 'target'), ('id_33', 'id_33<>target', 'target'), ('id_34', 'id_34<>target', 'target'), ('id_35', 'id_35<>target', 'target'), ('id_36', 'id_36<>target', 'target'), ('id_37', 'id_37<>target', 'target'), ('id_38', 'id_38<>target', 'target'), ('target', 'self_relation', 'target'), ('target', 'target<>DeviceInfo', 'DeviceInfo'), ('target', 'target<>DeviceType', 'DeviceType'), ('target', 'target<>P_emaildomain', 'P_emaildomain'), ('target', 'target<>ProductCD', 'ProductCD'), ('target', 'target<>R_emaildomain', 'R_emaildomain'), ('target', 'target<>addr1', 'addr1'), ('target', 'target<>addr2', 'addr2'), ('target', 'target<>card1', 'card1'), ('target', 'target<>card2', 'card2'), ('target', 'target<>card3', 'card3'), ('target', 'target<>card4', 'card4'), ('target', 'target<>card5', 'card5'), ('target', 'target<>card6', 'card6'), ('target', 'target<>id_01', 'id_01'), ('target', 'target<>id_02', 'id_02'), ('target', 'target<>id_03', 'id_03'), ('target', 'target<>id_04', 'id_04'), ('target', 'target<>id_05', 'id_05'), ('target', 'target<>id_06', 'id_06'), ('target', 'target<>id_07', 'id_07'), ('target', 'target<>id_08', 'id_08'), ('target', 'target<>id_09', 'id_09'), ('target', 'target<>id_10', 'id_10'), ('target', 'target<>id_11', 'id_11'), ('target', 'target<>id_12', 'id_12'), ('target', 'target<>id_13', 'id_13'), ('target', 'target<>id_14', 'id_14'), ('target', 'target<>id_15', 'id_15'), ('target', 'target<>id_16', 'id_16'), ('target', 'target<>id_17', 'id_17'), ('target', 'target<>id_18', 'id_18'), ('target', 'target<>id_19', 'id_19'), ('target', 'target<>id_20', 'id_20'), ('target', 'target<>id_21', 'id_21'), ('target', 'target<>id_22', 'id_22'), ('target', 'target<>id_23', 'id_23'), ('target', 'target<>id_24', 'id_24'), ('target', 'target<>id_25', 'id_25'), ('target', 'target<>id_26', 'id_26'), ('target', 'target<>id_27', 'id_27'), ('target', 'target<>id_28', 'id_28'), ('target', 'target<>id_29', 'id_29'), ('target', 'target<>id_30', 'id_30'), ('target', 'target<>id_31', 'id_31'), ('target', 'target<>id_32', 'id_32'), ('target', 'target<>id_33', 'id_33'), ('target', 'target<>id_34', 'id_34'), ('target', 'target<>id_35', 'id_35'), ('target', 'target<>id_36', 'id_36'), ('target', 'target<>id_37', 'id_37'), ('target', 'target<>id_38', 'id_38')]\n",
            "Number of nodes of type target : 59054\n",
            "feature mean shape:torch.Size([390]), std shape:torch.Size([390])\n",
            "Getting labels\n",
            "Got labels\n",
            "----Data statistics------'\n",
            "                #Nodes: 82464\n",
            "                #Edges: 1943174\n",
            "                #Features Shape: torch.Size([59054, 390])\n",
            "                #Labeled Test samples: 11811.0\n",
            "Initializing Model\n",
            "Initialized Model\n",
            "Starting Model training\n",
            "Epoch 00000, Time(s) 6.8895, Loss 0.5307, F1 0.0000 \n",
            "Epoch 00001, Time(s) 5.7180, Loss 0.8945, F1 0.0000 \n",
            "Epoch 00002, Time(s) 5.8441, Loss 0.3730, F1 0.1890 \n",
            "Epoch 00003, Time(s) 5.4115, Loss 0.3560, F1 0.0095 \n",
            "Epoch 00004, Time(s) 5.3648, Loss 0.2124, F1 0.0029 \n",
            "Epoch 00005, Time(s) 5.1430, Loss 0.2404, F1 0.0057 \n",
            "Epoch 00006, Time(s) 5.1182, Loss 0.2288, F1 0.0124 \n",
            "Epoch 00007, Time(s) 4.9874, Loss 0.1994, F1 0.0365 \n",
            "Epoch 00008, Time(s) 4.9258, Loss 0.1606, F1 0.1155 \n",
            "Epoch 00009, Time(s) 4.9338, Loss 0.1353, F1 0.2594 \n",
            "F1: 0.2557, Precision: 0.2568, Recall: 0.2545, Acc: 0.9443, ROC: 0.7703, PR: 0.2243, AP: 0.2243\n",
            "Metrics\n",
            "Confusion Matrix:\n",
            "                                [[11040   327]\n",
            " [  331   113]]\n",
            "                                f1: 0.2557, precision: 0.2568, recall: 0.2545, acc: 0.9443, roc: 0.7703, pr: 0.2243, ap: 0.2243\n",
            "                             \n",
            "Finished Model training\n",
            "Saving model\n",
            "Model and metadata saved\n"
          ]
        }
      ]
    },
    {
      "cell_type": "code",
      "source": [
        "!python train_origin.py --n-epochs 10 --n-hidden 32 --embedding-size 128 --dropout 0.0\n",
        "#F1: 0.2667, Precision: 0.3095, Recall: 0.2342, Acc: 0.9516, ROC: 0.7389, PR: 0.1833, AP: 0.1833"
      ],
      "metadata": {
        "collapsed": true,
        "id": "cDe3HM0Syw1t",
        "outputId": "4dee5023-856e-421f-e322-6c3135a38984",
        "colab": {
          "base_uri": "https://localhost:8080/"
        }
      },
      "execution_count": null,
      "outputs": [
        {
          "output_type": "stream",
          "name": "stdout",
          "text": [
            "DLG version: 1.1.2\n",
            "numpy version:2.0.2 PyTorch version:2.6.0+cu124 DGL version:1.1.2\n",
            "Namespace(training_dir='./data', predicting_dir='./tdata', model_dir='./model/2025_07_24_17_06_13', model_predict_dir='./model/2025_07_20_08_53_50', output_dir='./output', nodes='features.csv', edges='relation*', labels='tags.csv', new_accounts='test.csv', target_ntype='TransactionID', compute_metrics=True, threshold=0.5, optimizer='adam', lr=0.01, n_epochs=10, n_hidden=32, n_layers=3, weight_decay=0.0005, dropout=0.0, embedding_size=128, weight=None, num_gpus=0)\n",
            "Getting relation graphs from the following edge lists : ['relation_card1_edgelist.csv', 'relation_card2_edgelist.csv', 'relation_card3_edgelist.csv', 'relation_card4_edgelist.csv', 'relation_card5_edgelist.csv', 'relation_card6_edgelist.csv', 'relation_ProductCD_edgelist.csv', 'relation_addr1_edgelist.csv', 'relation_addr2_edgelist.csv', 'relation_P_emaildomain_edgelist.csv', 'relation_R_emaildomain_edgelist.csv', 'relation_TransactionID_edgelist.csv', 'relation_id_01_edgelist.csv', 'relation_id_02_edgelist.csv', 'relation_id_03_edgelist.csv', 'relation_id_04_edgelist.csv', 'relation_id_05_edgelist.csv', 'relation_id_06_edgelist.csv', 'relation_id_07_edgelist.csv', 'relation_id_08_edgelist.csv', 'relation_id_09_edgelist.csv', 'relation_id_10_edgelist.csv', 'relation_id_11_edgelist.csv', 'relation_id_12_edgelist.csv', 'relation_id_13_edgelist.csv', 'relation_id_14_edgelist.csv', 'relation_id_15_edgelist.csv', 'relation_id_16_edgelist.csv', 'relation_id_17_edgelist.csv', 'relation_id_18_edgelist.csv', 'relation_id_19_edgelist.csv', 'relation_id_20_edgelist.csv', 'relation_id_21_edgelist.csv', 'relation_id_22_edgelist.csv', 'relation_id_23_edgelist.csv', 'relation_id_24_edgelist.csv', 'relation_id_25_edgelist.csv', 'relation_id_26_edgelist.csv', 'relation_id_27_edgelist.csv', 'relation_id_28_edgelist.csv', 'relation_id_29_edgelist.csv', 'relation_id_30_edgelist.csv', 'relation_id_31_edgelist.csv', 'relation_id_32_edgelist.csv', 'relation_id_33_edgelist.csv', 'relation_id_34_edgelist.csv', 'relation_id_35_edgelist.csv', 'relation_id_36_edgelist.csv', 'relation_id_37_edgelist.csv', 'relation_id_38_edgelist.csv', 'relation_DeviceType_edgelist.csv', 'relation_DeviceInfo_edgelist.csv'] \n",
            "Read edges for target<card1> from edgelist: ./data/relation_card1_edgelist.csv\n",
            "Read edges for target<card2> from edgelist: ./data/relation_card2_edgelist.csv\n",
            "Read edges for target<card3> from edgelist: ./data/relation_card3_edgelist.csv\n",
            "Read edges for target<card4> from edgelist: ./data/relation_card4_edgelist.csv\n",
            "Read edges for target<card5> from edgelist: ./data/relation_card5_edgelist.csv\n",
            "Read edges for target<card6> from edgelist: ./data/relation_card6_edgelist.csv\n",
            "Read edges for target<ProductCD> from edgelist: ./data/relation_ProductCD_edgelist.csv\n",
            "Read edges for target<addr1> from edgelist: ./data/relation_addr1_edgelist.csv\n",
            "Read edges for target<addr2> from edgelist: ./data/relation_addr2_edgelist.csv\n",
            "Read edges for target<P_emaildomain> from edgelist: ./data/relation_P_emaildomain_edgelist.csv\n",
            "Read edges for target<R_emaildomain> from edgelist: ./data/relation_R_emaildomain_edgelist.csv\n",
            "Will add self loop for target later......\n",
            "Read edges for target<id_01> from edgelist: ./data/relation_id_01_edgelist.csv\n",
            "Read edges for target<id_02> from edgelist: ./data/relation_id_02_edgelist.csv\n",
            "Read edges for target<id_03> from edgelist: ./data/relation_id_03_edgelist.csv\n",
            "Read edges for target<id_04> from edgelist: ./data/relation_id_04_edgelist.csv\n",
            "Read edges for target<id_05> from edgelist: ./data/relation_id_05_edgelist.csv\n",
            "Read edges for target<id_06> from edgelist: ./data/relation_id_06_edgelist.csv\n",
            "Read edges for target<id_07> from edgelist: ./data/relation_id_07_edgelist.csv\n",
            "Read edges for target<id_08> from edgelist: ./data/relation_id_08_edgelist.csv\n",
            "Read edges for target<id_09> from edgelist: ./data/relation_id_09_edgelist.csv\n",
            "Read edges for target<id_10> from edgelist: ./data/relation_id_10_edgelist.csv\n",
            "Read edges for target<id_11> from edgelist: ./data/relation_id_11_edgelist.csv\n",
            "Read edges for target<id_12> from edgelist: ./data/relation_id_12_edgelist.csv\n",
            "Read edges for target<id_13> from edgelist: ./data/relation_id_13_edgelist.csv\n",
            "Read edges for target<id_14> from edgelist: ./data/relation_id_14_edgelist.csv\n",
            "Read edges for target<id_15> from edgelist: ./data/relation_id_15_edgelist.csv\n",
            "Read edges for target<id_16> from edgelist: ./data/relation_id_16_edgelist.csv\n",
            "Read edges for target<id_17> from edgelist: ./data/relation_id_17_edgelist.csv\n",
            "Read edges for target<id_18> from edgelist: ./data/relation_id_18_edgelist.csv\n",
            "Read edges for target<id_19> from edgelist: ./data/relation_id_19_edgelist.csv\n",
            "Read edges for target<id_20> from edgelist: ./data/relation_id_20_edgelist.csv\n",
            "Read edges for target<id_21> from edgelist: ./data/relation_id_21_edgelist.csv\n",
            "Read edges for target<id_22> from edgelist: ./data/relation_id_22_edgelist.csv\n",
            "Read edges for target<id_23> from edgelist: ./data/relation_id_23_edgelist.csv\n",
            "Read edges for target<id_24> from edgelist: ./data/relation_id_24_edgelist.csv\n",
            "Read edges for target<id_25> from edgelist: ./data/relation_id_25_edgelist.csv\n",
            "Read edges for target<id_26> from edgelist: ./data/relation_id_26_edgelist.csv\n",
            "Read edges for target<id_27> from edgelist: ./data/relation_id_27_edgelist.csv\n",
            "Read edges for target<id_28> from edgelist: ./data/relation_id_28_edgelist.csv\n",
            "Read edges for target<id_29> from edgelist: ./data/relation_id_29_edgelist.csv\n",
            "Read edges for target<id_30> from edgelist: ./data/relation_id_30_edgelist.csv\n",
            "Read edges for target<id_31> from edgelist: ./data/relation_id_31_edgelist.csv\n",
            "Read edges for target<id_32> from edgelist: ./data/relation_id_32_edgelist.csv\n",
            "Read edges for target<id_33> from edgelist: ./data/relation_id_33_edgelist.csv\n",
            "Read edges for target<id_34> from edgelist: ./data/relation_id_34_edgelist.csv\n",
            "Read edges for target<id_35> from edgelist: ./data/relation_id_35_edgelist.csv\n",
            "Read edges for target<id_36> from edgelist: ./data/relation_id_36_edgelist.csv\n",
            "Read edges for target<id_37> from edgelist: ./data/relation_id_37_edgelist.csv\n",
            "Read edges for target<id_38> from edgelist: ./data/relation_id_38_edgelist.csv\n",
            "Read edges for target<DeviceType> from edgelist: ./data/relation_DeviceType_edgelist.csv\n",
            "Read edges for target<DeviceInfo> from edgelist: ./data/relation_DeviceInfo_edgelist.csv\n",
            "Read in features for target nodes\n",
            "Constructed heterograph with the following metagraph structure: Node types ['DeviceInfo', 'DeviceType', 'P_emaildomain', 'ProductCD', 'R_emaildomain', 'addr1', 'addr2', 'card1', 'card2', 'card3', 'card4', 'card5', 'card6', 'id_01', 'id_02', 'id_03', 'id_04', 'id_05', 'id_06', 'id_07', 'id_08', 'id_09', 'id_10', 'id_11', 'id_12', 'id_13', 'id_14', 'id_15', 'id_16', 'id_17', 'id_18', 'id_19', 'id_20', 'id_21', 'id_22', 'id_23', 'id_24', 'id_25', 'id_26', 'id_27', 'id_28', 'id_29', 'id_30', 'id_31', 'id_32', 'id_33', 'id_34', 'id_35', 'id_36', 'id_37', 'id_38', 'target'], Edge types[('DeviceInfo', 'DeviceInfo<>target', 'target'), ('DeviceType', 'DeviceType<>target', 'target'), ('P_emaildomain', 'P_emaildomain<>target', 'target'), ('ProductCD', 'ProductCD<>target', 'target'), ('R_emaildomain', 'R_emaildomain<>target', 'target'), ('addr1', 'addr1<>target', 'target'), ('addr2', 'addr2<>target', 'target'), ('card1', 'card1<>target', 'target'), ('card2', 'card2<>target', 'target'), ('card3', 'card3<>target', 'target'), ('card4', 'card4<>target', 'target'), ('card5', 'card5<>target', 'target'), ('card6', 'card6<>target', 'target'), ('id_01', 'id_01<>target', 'target'), ('id_02', 'id_02<>target', 'target'), ('id_03', 'id_03<>target', 'target'), ('id_04', 'id_04<>target', 'target'), ('id_05', 'id_05<>target', 'target'), ('id_06', 'id_06<>target', 'target'), ('id_07', 'id_07<>target', 'target'), ('id_08', 'id_08<>target', 'target'), ('id_09', 'id_09<>target', 'target'), ('id_10', 'id_10<>target', 'target'), ('id_11', 'id_11<>target', 'target'), ('id_12', 'id_12<>target', 'target'), ('id_13', 'id_13<>target', 'target'), ('id_14', 'id_14<>target', 'target'), ('id_15', 'id_15<>target', 'target'), ('id_16', 'id_16<>target', 'target'), ('id_17', 'id_17<>target', 'target'), ('id_18', 'id_18<>target', 'target'), ('id_19', 'id_19<>target', 'target'), ('id_20', 'id_20<>target', 'target'), ('id_21', 'id_21<>target', 'target'), ('id_22', 'id_22<>target', 'target'), ('id_23', 'id_23<>target', 'target'), ('id_24', 'id_24<>target', 'target'), ('id_25', 'id_25<>target', 'target'), ('id_26', 'id_26<>target', 'target'), ('id_27', 'id_27<>target', 'target'), ('id_28', 'id_28<>target', 'target'), ('id_29', 'id_29<>target', 'target'), ('id_30', 'id_30<>target', 'target'), ('id_31', 'id_31<>target', 'target'), ('id_32', 'id_32<>target', 'target'), ('id_33', 'id_33<>target', 'target'), ('id_34', 'id_34<>target', 'target'), ('id_35', 'id_35<>target', 'target'), ('id_36', 'id_36<>target', 'target'), ('id_37', 'id_37<>target', 'target'), ('id_38', 'id_38<>target', 'target'), ('target', 'self_relation', 'target'), ('target', 'target<>DeviceInfo', 'DeviceInfo'), ('target', 'target<>DeviceType', 'DeviceType'), ('target', 'target<>P_emaildomain', 'P_emaildomain'), ('target', 'target<>ProductCD', 'ProductCD'), ('target', 'target<>R_emaildomain', 'R_emaildomain'), ('target', 'target<>addr1', 'addr1'), ('target', 'target<>addr2', 'addr2'), ('target', 'target<>card1', 'card1'), ('target', 'target<>card2', 'card2'), ('target', 'target<>card3', 'card3'), ('target', 'target<>card4', 'card4'), ('target', 'target<>card5', 'card5'), ('target', 'target<>card6', 'card6'), ('target', 'target<>id_01', 'id_01'), ('target', 'target<>id_02', 'id_02'), ('target', 'target<>id_03', 'id_03'), ('target', 'target<>id_04', 'id_04'), ('target', 'target<>id_05', 'id_05'), ('target', 'target<>id_06', 'id_06'), ('target', 'target<>id_07', 'id_07'), ('target', 'target<>id_08', 'id_08'), ('target', 'target<>id_09', 'id_09'), ('target', 'target<>id_10', 'id_10'), ('target', 'target<>id_11', 'id_11'), ('target', 'target<>id_12', 'id_12'), ('target', 'target<>id_13', 'id_13'), ('target', 'target<>id_14', 'id_14'), ('target', 'target<>id_15', 'id_15'), ('target', 'target<>id_16', 'id_16'), ('target', 'target<>id_17', 'id_17'), ('target', 'target<>id_18', 'id_18'), ('target', 'target<>id_19', 'id_19'), ('target', 'target<>id_20', 'id_20'), ('target', 'target<>id_21', 'id_21'), ('target', 'target<>id_22', 'id_22'), ('target', 'target<>id_23', 'id_23'), ('target', 'target<>id_24', 'id_24'), ('target', 'target<>id_25', 'id_25'), ('target', 'target<>id_26', 'id_26'), ('target', 'target<>id_27', 'id_27'), ('target', 'target<>id_28', 'id_28'), ('target', 'target<>id_29', 'id_29'), ('target', 'target<>id_30', 'id_30'), ('target', 'target<>id_31', 'id_31'), ('target', 'target<>id_32', 'id_32'), ('target', 'target<>id_33', 'id_33'), ('target', 'target<>id_34', 'id_34'), ('target', 'target<>id_35', 'id_35'), ('target', 'target<>id_36', 'id_36'), ('target', 'target<>id_37', 'id_37'), ('target', 'target<>id_38', 'id_38')]\n",
            "Number of nodes of type target : 59054\n",
            "feature mean shape:torch.Size([390]), std shape:torch.Size([390])\n",
            "Getting labels\n",
            "Got labels\n",
            "----Data statistics------'\n",
            "                #Nodes: 82464\n",
            "                #Edges: 1943174\n",
            "                #Features Shape: torch.Size([59054, 390])\n",
            "                #Labeled Test samples: 11811.0\n",
            "Initializing Model\n",
            "Initialized Model\n",
            "Starting Model training\n",
            "Epoch 00000, Time(s) 9.8147, Loss 0.6314, F1 0.0000 \n",
            "Epoch 00001, Time(s) 8.6519, Loss 2.6847, F1 0.0000 \n",
            "Epoch 00002, Time(s) 8.7666, Loss 0.7976, F1 0.1921 \n",
            "Epoch 00003, Time(s) 8.3872, Loss 0.4196, F1 0.0000 \n",
            "Epoch 00004, Time(s) 8.2450, Loss 0.2251, F1 0.0000 \n",
            "Epoch 00005, Time(s) 8.1692, Loss 0.2128, F1 0.0000 \n",
            "Epoch 00006, Time(s) 8.0616, Loss 0.1901, F1 0.0010 \n",
            "Epoch 00007, Time(s) 7.8776, Loss 0.1665, F1 0.0156 \n",
            "Epoch 00008, Time(s) 7.7756, Loss 0.1462, F1 0.2319 \n",
            "Epoch 00009, Time(s) 7.7698, Loss 0.1701, F1 0.0430 \n",
            "F1: 0.2667, Precision: 0.3095, Recall: 0.2342, Acc: 0.9516, ROC: 0.7389, PR: 0.1833, AP: 0.1833\n",
            "Metrics\n",
            "Confusion Matrix:\n",
            "                                [[11135   232]\n",
            " [  340   104]]\n",
            "                                f1: 0.2667, precision: 0.3095, recall: 0.2342, acc: 0.9516, roc: 0.7389, pr: 0.1833, ap: 0.1833\n",
            "                             \n",
            "Finished Model training\n",
            "Saving model\n",
            "Model and metadata saved\n"
          ]
        }
      ]
    },
    {
      "cell_type": "code",
      "source": [
        "!python train.py --n-epochs 10 --n-hidden 48 --embedding-size 180 --n-layers 2 --weight 2 --threshold 0.05 --dropout 0.0\n",
        "#F1: 0.3005, Precision: 0.4605, Recall: 0.2230, Acc: 0.9610, ROC: 0.8252, PR: 0.2761, AP: 0.2761"
      ],
      "metadata": {
        "collapsed": true,
        "id": "Ne6LFm35rSei",
        "outputId": "eb523a51-be83-424e-c237-44d19363ba2a",
        "colab": {
          "base_uri": "https://localhost:8080/"
        }
      },
      "execution_count": 8,
      "outputs": [
        {
          "output_type": "stream",
          "name": "stdout",
          "text": [
            "DLG version: 1.1.2\n",
            "numpy version:2.0.2 PyTorch version:2.6.0+cu124 DGL version:1.1.2\n",
            "Namespace(training_dir='./data', predicting_dir='./tdata', model_dir='./model/2025_07_25_17_49_46', model_predict_dir='./model/2025_07_20_08_53_50', output_dir='./output', nodes='features.csv', edges='relation*', labels='tags.csv', new_accounts='test.csv', target_ntype='TransactionID', compute_metrics=True, threshold=0.05, optimizer='adam', lr=0.01, n_epochs=10, n_hidden=48, n_layers=2, weight_decay=0.0005, dropout=0.0, embedding_size=180, weight=2.0, num_gpus=0)\n",
            "Getting relation graphs from the following edge lists : ['relation_card1_edgelist.csv', 'relation_card2_edgelist.csv', 'relation_card3_edgelist.csv', 'relation_card4_edgelist.csv', 'relation_card5_edgelist.csv', 'relation_card6_edgelist.csv', 'relation_ProductCD_edgelist.csv', 'relation_addr1_edgelist.csv', 'relation_addr2_edgelist.csv', 'relation_P_emaildomain_edgelist.csv', 'relation_R_emaildomain_edgelist.csv', 'relation_TransactionID_edgelist.csv', 'relation_id_01_edgelist.csv', 'relation_id_02_edgelist.csv', 'relation_id_03_edgelist.csv', 'relation_id_04_edgelist.csv', 'relation_id_05_edgelist.csv', 'relation_id_06_edgelist.csv', 'relation_id_07_edgelist.csv', 'relation_id_08_edgelist.csv', 'relation_id_09_edgelist.csv', 'relation_id_10_edgelist.csv', 'relation_id_11_edgelist.csv', 'relation_id_12_edgelist.csv', 'relation_id_13_edgelist.csv', 'relation_id_14_edgelist.csv', 'relation_id_15_edgelist.csv', 'relation_id_16_edgelist.csv', 'relation_id_17_edgelist.csv', 'relation_id_18_edgelist.csv', 'relation_id_19_edgelist.csv', 'relation_id_20_edgelist.csv', 'relation_id_21_edgelist.csv', 'relation_id_22_edgelist.csv', 'relation_id_23_edgelist.csv', 'relation_id_24_edgelist.csv', 'relation_id_25_edgelist.csv', 'relation_id_26_edgelist.csv', 'relation_id_27_edgelist.csv', 'relation_id_28_edgelist.csv', 'relation_id_29_edgelist.csv', 'relation_id_30_edgelist.csv', 'relation_id_31_edgelist.csv', 'relation_id_32_edgelist.csv', 'relation_id_33_edgelist.csv', 'relation_id_34_edgelist.csv', 'relation_id_35_edgelist.csv', 'relation_id_36_edgelist.csv', 'relation_id_37_edgelist.csv', 'relation_id_38_edgelist.csv', 'relation_DeviceType_edgelist.csv', 'relation_DeviceInfo_edgelist.csv'] \n",
            "Read edges for target<card1> from edgelist: ./data/relation_card1_edgelist.csv\n",
            "Read edges for target<card2> from edgelist: ./data/relation_card2_edgelist.csv\n",
            "Read edges for target<card3> from edgelist: ./data/relation_card3_edgelist.csv\n",
            "Read edges for target<card4> from edgelist: ./data/relation_card4_edgelist.csv\n",
            "Read edges for target<card5> from edgelist: ./data/relation_card5_edgelist.csv\n",
            "Read edges for target<card6> from edgelist: ./data/relation_card6_edgelist.csv\n",
            "Read edges for target<ProductCD> from edgelist: ./data/relation_ProductCD_edgelist.csv\n",
            "Read edges for target<addr1> from edgelist: ./data/relation_addr1_edgelist.csv\n",
            "Read edges for target<addr2> from edgelist: ./data/relation_addr2_edgelist.csv\n",
            "Read edges for target<P_emaildomain> from edgelist: ./data/relation_P_emaildomain_edgelist.csv\n",
            "Read edges for target<R_emaildomain> from edgelist: ./data/relation_R_emaildomain_edgelist.csv\n",
            "Will add self loop for target later......\n",
            "Read edges for target<id_01> from edgelist: ./data/relation_id_01_edgelist.csv\n",
            "Read edges for target<id_02> from edgelist: ./data/relation_id_02_edgelist.csv\n",
            "Read edges for target<id_03> from edgelist: ./data/relation_id_03_edgelist.csv\n",
            "Read edges for target<id_04> from edgelist: ./data/relation_id_04_edgelist.csv\n",
            "Read edges for target<id_05> from edgelist: ./data/relation_id_05_edgelist.csv\n",
            "Read edges for target<id_06> from edgelist: ./data/relation_id_06_edgelist.csv\n",
            "Read edges for target<id_07> from edgelist: ./data/relation_id_07_edgelist.csv\n",
            "Read edges for target<id_08> from edgelist: ./data/relation_id_08_edgelist.csv\n",
            "Read edges for target<id_09> from edgelist: ./data/relation_id_09_edgelist.csv\n",
            "Read edges for target<id_10> from edgelist: ./data/relation_id_10_edgelist.csv\n",
            "Read edges for target<id_11> from edgelist: ./data/relation_id_11_edgelist.csv\n",
            "Read edges for target<id_12> from edgelist: ./data/relation_id_12_edgelist.csv\n",
            "Read edges for target<id_13> from edgelist: ./data/relation_id_13_edgelist.csv\n",
            "Read edges for target<id_14> from edgelist: ./data/relation_id_14_edgelist.csv\n",
            "Read edges for target<id_15> from edgelist: ./data/relation_id_15_edgelist.csv\n",
            "Read edges for target<id_16> from edgelist: ./data/relation_id_16_edgelist.csv\n",
            "Read edges for target<id_17> from edgelist: ./data/relation_id_17_edgelist.csv\n",
            "Read edges for target<id_18> from edgelist: ./data/relation_id_18_edgelist.csv\n",
            "Read edges for target<id_19> from edgelist: ./data/relation_id_19_edgelist.csv\n",
            "Read edges for target<id_20> from edgelist: ./data/relation_id_20_edgelist.csv\n",
            "Read edges for target<id_21> from edgelist: ./data/relation_id_21_edgelist.csv\n",
            "Read edges for target<id_22> from edgelist: ./data/relation_id_22_edgelist.csv\n",
            "Read edges for target<id_23> from edgelist: ./data/relation_id_23_edgelist.csv\n",
            "Read edges for target<id_24> from edgelist: ./data/relation_id_24_edgelist.csv\n",
            "Read edges for target<id_25> from edgelist: ./data/relation_id_25_edgelist.csv\n",
            "Read edges for target<id_26> from edgelist: ./data/relation_id_26_edgelist.csv\n",
            "Read edges for target<id_27> from edgelist: ./data/relation_id_27_edgelist.csv\n",
            "Read edges for target<id_28> from edgelist: ./data/relation_id_28_edgelist.csv\n",
            "Read edges for target<id_29> from edgelist: ./data/relation_id_29_edgelist.csv\n",
            "Read edges for target<id_30> from edgelist: ./data/relation_id_30_edgelist.csv\n",
            "Read edges for target<id_31> from edgelist: ./data/relation_id_31_edgelist.csv\n",
            "Read edges for target<id_32> from edgelist: ./data/relation_id_32_edgelist.csv\n",
            "Read edges for target<id_33> from edgelist: ./data/relation_id_33_edgelist.csv\n",
            "Read edges for target<id_34> from edgelist: ./data/relation_id_34_edgelist.csv\n",
            "Read edges for target<id_35> from edgelist: ./data/relation_id_35_edgelist.csv\n",
            "Read edges for target<id_36> from edgelist: ./data/relation_id_36_edgelist.csv\n",
            "Read edges for target<id_37> from edgelist: ./data/relation_id_37_edgelist.csv\n",
            "Read edges for target<id_38> from edgelist: ./data/relation_id_38_edgelist.csv\n",
            "Read edges for target<DeviceType> from edgelist: ./data/relation_DeviceType_edgelist.csv\n",
            "Read edges for target<DeviceInfo> from edgelist: ./data/relation_DeviceInfo_edgelist.csv\n",
            "Read in features for target nodes\n",
            "Constructed heterograph with the following metagraph structure: Node types ['DeviceInfo', 'DeviceType', 'P_emaildomain', 'ProductCD', 'R_emaildomain', 'addr1', 'addr2', 'card1', 'card2', 'card3', 'card4', 'card5', 'card6', 'id_01', 'id_02', 'id_03', 'id_04', 'id_05', 'id_06', 'id_07', 'id_08', 'id_09', 'id_10', 'id_11', 'id_12', 'id_13', 'id_14', 'id_15', 'id_16', 'id_17', 'id_18', 'id_19', 'id_20', 'id_21', 'id_22', 'id_23', 'id_24', 'id_25', 'id_26', 'id_27', 'id_28', 'id_29', 'id_30', 'id_31', 'id_32', 'id_33', 'id_34', 'id_35', 'id_36', 'id_37', 'id_38', 'target'], Edge types[('DeviceInfo', 'DeviceInfo<>target', 'target'), ('DeviceType', 'DeviceType<>target', 'target'), ('P_emaildomain', 'P_emaildomain<>target', 'target'), ('ProductCD', 'ProductCD<>target', 'target'), ('R_emaildomain', 'R_emaildomain<>target', 'target'), ('addr1', 'addr1<>target', 'target'), ('addr2', 'addr2<>target', 'target'), ('card1', 'card1<>target', 'target'), ('card2', 'card2<>target', 'target'), ('card3', 'card3<>target', 'target'), ('card4', 'card4<>target', 'target'), ('card5', 'card5<>target', 'target'), ('card6', 'card6<>target', 'target'), ('id_01', 'id_01<>target', 'target'), ('id_02', 'id_02<>target', 'target'), ('id_03', 'id_03<>target', 'target'), ('id_04', 'id_04<>target', 'target'), ('id_05', 'id_05<>target', 'target'), ('id_06', 'id_06<>target', 'target'), ('id_07', 'id_07<>target', 'target'), ('id_08', 'id_08<>target', 'target'), ('id_09', 'id_09<>target', 'target'), ('id_10', 'id_10<>target', 'target'), ('id_11', 'id_11<>target', 'target'), ('id_12', 'id_12<>target', 'target'), ('id_13', 'id_13<>target', 'target'), ('id_14', 'id_14<>target', 'target'), ('id_15', 'id_15<>target', 'target'), ('id_16', 'id_16<>target', 'target'), ('id_17', 'id_17<>target', 'target'), ('id_18', 'id_18<>target', 'target'), ('id_19', 'id_19<>target', 'target'), ('id_20', 'id_20<>target', 'target'), ('id_21', 'id_21<>target', 'target'), ('id_22', 'id_22<>target', 'target'), ('id_23', 'id_23<>target', 'target'), ('id_24', 'id_24<>target', 'target'), ('id_25', 'id_25<>target', 'target'), ('id_26', 'id_26<>target', 'target'), ('id_27', 'id_27<>target', 'target'), ('id_28', 'id_28<>target', 'target'), ('id_29', 'id_29<>target', 'target'), ('id_30', 'id_30<>target', 'target'), ('id_31', 'id_31<>target', 'target'), ('id_32', 'id_32<>target', 'target'), ('id_33', 'id_33<>target', 'target'), ('id_34', 'id_34<>target', 'target'), ('id_35', 'id_35<>target', 'target'), ('id_36', 'id_36<>target', 'target'), ('id_37', 'id_37<>target', 'target'), ('id_38', 'id_38<>target', 'target'), ('target', 'self_relation', 'target'), ('target', 'target<>DeviceInfo', 'DeviceInfo'), ('target', 'target<>DeviceType', 'DeviceType'), ('target', 'target<>P_emaildomain', 'P_emaildomain'), ('target', 'target<>ProductCD', 'ProductCD'), ('target', 'target<>R_emaildomain', 'R_emaildomain'), ('target', 'target<>addr1', 'addr1'), ('target', 'target<>addr2', 'addr2'), ('target', 'target<>card1', 'card1'), ('target', 'target<>card2', 'card2'), ('target', 'target<>card3', 'card3'), ('target', 'target<>card4', 'card4'), ('target', 'target<>card5', 'card5'), ('target', 'target<>card6', 'card6'), ('target', 'target<>id_01', 'id_01'), ('target', 'target<>id_02', 'id_02'), ('target', 'target<>id_03', 'id_03'), ('target', 'target<>id_04', 'id_04'), ('target', 'target<>id_05', 'id_05'), ('target', 'target<>id_06', 'id_06'), ('target', 'target<>id_07', 'id_07'), ('target', 'target<>id_08', 'id_08'), ('target', 'target<>id_09', 'id_09'), ('target', 'target<>id_10', 'id_10'), ('target', 'target<>id_11', 'id_11'), ('target', 'target<>id_12', 'id_12'), ('target', 'target<>id_13', 'id_13'), ('target', 'target<>id_14', 'id_14'), ('target', 'target<>id_15', 'id_15'), ('target', 'target<>id_16', 'id_16'), ('target', 'target<>id_17', 'id_17'), ('target', 'target<>id_18', 'id_18'), ('target', 'target<>id_19', 'id_19'), ('target', 'target<>id_20', 'id_20'), ('target', 'target<>id_21', 'id_21'), ('target', 'target<>id_22', 'id_22'), ('target', 'target<>id_23', 'id_23'), ('target', 'target<>id_24', 'id_24'), ('target', 'target<>id_25', 'id_25'), ('target', 'target<>id_26', 'id_26'), ('target', 'target<>id_27', 'id_27'), ('target', 'target<>id_28', 'id_28'), ('target', 'target<>id_29', 'id_29'), ('target', 'target<>id_30', 'id_30'), ('target', 'target<>id_31', 'id_31'), ('target', 'target<>id_32', 'id_32'), ('target', 'target<>id_33', 'id_33'), ('target', 'target<>id_34', 'id_34'), ('target', 'target<>id_35', 'id_35'), ('target', 'target<>id_36', 'id_36'), ('target', 'target<>id_37', 'id_37'), ('target', 'target<>id_38', 'id_38')]\n",
            "Number of nodes of type target : 59054\n",
            "feature mean shape:torch.Size([390]), std shape:torch.Size([390])\n",
            "Getting labels\n",
            "Got labels\n",
            "----Data statistics------'\n",
            "                #Nodes: 82464\n",
            "                #Edges: 1943174\n",
            "                #Features Shape: torch.Size([59054, 390])\n",
            "                #Labeled Test samples: 11811.0\n",
            "Using device: cpu\n",
            "Initializing Model\n",
            "Initialized Model\n",
            "Starting Model training\n",
            "Epoch 00000, Time(s) 11.1781, Loss 0.5603, F1 0.0000 \n",
            "Epoch 00001, Time(s) 10.6298, Loss 4.3395, F1 0.0000 \n",
            "Epoch 00002, Time(s) 10.0358, Loss 1.7746, F1 0.1844 \n",
            "Epoch 00003, Time(s) 9.7816, Loss 0.8745, F1 0.2143 \n",
            "Epoch 00004, Time(s) 9.6545, Loss 0.3708, F1 0.0076 \n",
            "Epoch 00005, Time(s) 9.6148, Loss 0.4758, F1 0.0010 \n",
            "Epoch 00006, Time(s) 9.6713, Loss 0.5537, F1 0.0171 \n",
            "Epoch 00007, Time(s) 9.5801, Loss 0.4521, F1 0.1145 \n",
            "Epoch 00008, Time(s) 9.5019, Loss 0.2721, F1 0.2425 \n",
            "Epoch 00009, Time(s) 9.5851, Loss 0.3026, F1 0.2686 \n",
            "F1: 0.3005, Precision: 0.4605, Recall: 0.2230, Acc: 0.9610, ROC: 0.8252, PR: 0.2761, AP: 0.2761\n",
            "Metrics\n",
            "Confusion Matrix:\n",
            "                                [[11251   116]\n",
            " [  345    99]]\n",
            "                                f1: 0.3005, precision: 0.4605, recall: 0.2230, acc: 0.9610, roc: 0.8252, pr: 0.2761, ap: 0.2761\n",
            "                             \n",
            "Finished Model training\n",
            "Saving model\n",
            "Model and metadata saved\n"
          ]
        }
      ]
    },
    {
      "cell_type": "code",
      "source": [
        "!python train.py --n-epochs 10 --n-hidden 48 --embedding-size 180 --n-layers 2 --weight 2 --threshold 0.1 --dropout 0.0\n",
        "#F1: 0.3211, Precision: 0.3861, Recall: 0.2748, Acc: 0.9563, ROC: 0.8252, PR: 0.2761, AP: 0.2761"
      ],
      "metadata": {
        "collapsed": true,
        "id": "tEU4KY3lsebR",
        "outputId": "a24d81dc-21d7-4bd3-fdbe-6cf623b20dfb",
        "colab": {
          "base_uri": "https://localhost:8080/"
        }
      },
      "execution_count": 7,
      "outputs": [
        {
          "output_type": "stream",
          "name": "stdout",
          "text": [
            "DLG version: 1.1.2\n",
            "numpy version:2.0.2 PyTorch version:2.6.0+cu124 DGL version:1.1.2\n",
            "Namespace(training_dir='./data', predicting_dir='./tdata', model_dir='./model/2025_07_25_15_33_55', model_predict_dir='./model/2025_07_20_08_53_50', output_dir='./output', nodes='features.csv', edges='relation*', labels='tags.csv', new_accounts='test.csv', target_ntype='TransactionID', compute_metrics=True, threshold=0.1, optimizer='adam', lr=0.01, n_epochs=10, n_hidden=48, n_layers=2, weight_decay=0.0005, dropout=0.2, embedding_size=180, weight=2.0, num_gpus=0)\n",
            "Getting relation graphs from the following edge lists : ['relation_card1_edgelist.csv', 'relation_card2_edgelist.csv', 'relation_card3_edgelist.csv', 'relation_card4_edgelist.csv', 'relation_card5_edgelist.csv', 'relation_card6_edgelist.csv', 'relation_ProductCD_edgelist.csv', 'relation_addr1_edgelist.csv', 'relation_addr2_edgelist.csv', 'relation_P_emaildomain_edgelist.csv', 'relation_R_emaildomain_edgelist.csv', 'relation_TransactionID_edgelist.csv', 'relation_id_01_edgelist.csv', 'relation_id_02_edgelist.csv', 'relation_id_03_edgelist.csv', 'relation_id_04_edgelist.csv', 'relation_id_05_edgelist.csv', 'relation_id_06_edgelist.csv', 'relation_id_07_edgelist.csv', 'relation_id_08_edgelist.csv', 'relation_id_09_edgelist.csv', 'relation_id_10_edgelist.csv', 'relation_id_11_edgelist.csv', 'relation_id_12_edgelist.csv', 'relation_id_13_edgelist.csv', 'relation_id_14_edgelist.csv', 'relation_id_15_edgelist.csv', 'relation_id_16_edgelist.csv', 'relation_id_17_edgelist.csv', 'relation_id_18_edgelist.csv', 'relation_id_19_edgelist.csv', 'relation_id_20_edgelist.csv', 'relation_id_21_edgelist.csv', 'relation_id_22_edgelist.csv', 'relation_id_23_edgelist.csv', 'relation_id_24_edgelist.csv', 'relation_id_25_edgelist.csv', 'relation_id_26_edgelist.csv', 'relation_id_27_edgelist.csv', 'relation_id_28_edgelist.csv', 'relation_id_29_edgelist.csv', 'relation_id_30_edgelist.csv', 'relation_id_31_edgelist.csv', 'relation_id_32_edgelist.csv', 'relation_id_33_edgelist.csv', 'relation_id_34_edgelist.csv', 'relation_id_35_edgelist.csv', 'relation_id_36_edgelist.csv', 'relation_id_37_edgelist.csv', 'relation_id_38_edgelist.csv', 'relation_DeviceType_edgelist.csv', 'relation_DeviceInfo_edgelist.csv'] \n",
            "Read edges for target<card1> from edgelist: ./data/relation_card1_edgelist.csv\n",
            "Read edges for target<card2> from edgelist: ./data/relation_card2_edgelist.csv\n",
            "Read edges for target<card3> from edgelist: ./data/relation_card3_edgelist.csv\n",
            "Read edges for target<card4> from edgelist: ./data/relation_card4_edgelist.csv\n",
            "Read edges for target<card5> from edgelist: ./data/relation_card5_edgelist.csv\n",
            "Read edges for target<card6> from edgelist: ./data/relation_card6_edgelist.csv\n",
            "Read edges for target<ProductCD> from edgelist: ./data/relation_ProductCD_edgelist.csv\n",
            "Read edges for target<addr1> from edgelist: ./data/relation_addr1_edgelist.csv\n",
            "Read edges for target<addr2> from edgelist: ./data/relation_addr2_edgelist.csv\n",
            "Read edges for target<P_emaildomain> from edgelist: ./data/relation_P_emaildomain_edgelist.csv\n",
            "Read edges for target<R_emaildomain> from edgelist: ./data/relation_R_emaildomain_edgelist.csv\n",
            "Will add self loop for target later......\n",
            "Read edges for target<id_01> from edgelist: ./data/relation_id_01_edgelist.csv\n",
            "Read edges for target<id_02> from edgelist: ./data/relation_id_02_edgelist.csv\n",
            "Read edges for target<id_03> from edgelist: ./data/relation_id_03_edgelist.csv\n",
            "Read edges for target<id_04> from edgelist: ./data/relation_id_04_edgelist.csv\n",
            "Read edges for target<id_05> from edgelist: ./data/relation_id_05_edgelist.csv\n",
            "Read edges for target<id_06> from edgelist: ./data/relation_id_06_edgelist.csv\n",
            "Read edges for target<id_07> from edgelist: ./data/relation_id_07_edgelist.csv\n",
            "Read edges for target<id_08> from edgelist: ./data/relation_id_08_edgelist.csv\n",
            "Read edges for target<id_09> from edgelist: ./data/relation_id_09_edgelist.csv\n",
            "Read edges for target<id_10> from edgelist: ./data/relation_id_10_edgelist.csv\n",
            "Read edges for target<id_11> from edgelist: ./data/relation_id_11_edgelist.csv\n",
            "Read edges for target<id_12> from edgelist: ./data/relation_id_12_edgelist.csv\n",
            "Read edges for target<id_13> from edgelist: ./data/relation_id_13_edgelist.csv\n",
            "Read edges for target<id_14> from edgelist: ./data/relation_id_14_edgelist.csv\n",
            "Read edges for target<id_15> from edgelist: ./data/relation_id_15_edgelist.csv\n",
            "Read edges for target<id_16> from edgelist: ./data/relation_id_16_edgelist.csv\n",
            "Read edges for target<id_17> from edgelist: ./data/relation_id_17_edgelist.csv\n",
            "Read edges for target<id_18> from edgelist: ./data/relation_id_18_edgelist.csv\n",
            "Read edges for target<id_19> from edgelist: ./data/relation_id_19_edgelist.csv\n",
            "Read edges for target<id_20> from edgelist: ./data/relation_id_20_edgelist.csv\n",
            "Read edges for target<id_21> from edgelist: ./data/relation_id_21_edgelist.csv\n",
            "Read edges for target<id_22> from edgelist: ./data/relation_id_22_edgelist.csv\n",
            "Read edges for target<id_23> from edgelist: ./data/relation_id_23_edgelist.csv\n",
            "Read edges for target<id_24> from edgelist: ./data/relation_id_24_edgelist.csv\n",
            "Read edges for target<id_25> from edgelist: ./data/relation_id_25_edgelist.csv\n",
            "Read edges for target<id_26> from edgelist: ./data/relation_id_26_edgelist.csv\n",
            "Read edges for target<id_27> from edgelist: ./data/relation_id_27_edgelist.csv\n",
            "Read edges for target<id_28> from edgelist: ./data/relation_id_28_edgelist.csv\n",
            "Read edges for target<id_29> from edgelist: ./data/relation_id_29_edgelist.csv\n",
            "Read edges for target<id_30> from edgelist: ./data/relation_id_30_edgelist.csv\n",
            "Read edges for target<id_31> from edgelist: ./data/relation_id_31_edgelist.csv\n",
            "Read edges for target<id_32> from edgelist: ./data/relation_id_32_edgelist.csv\n",
            "Read edges for target<id_33> from edgelist: ./data/relation_id_33_edgelist.csv\n",
            "Read edges for target<id_34> from edgelist: ./data/relation_id_34_edgelist.csv\n",
            "Read edges for target<id_35> from edgelist: ./data/relation_id_35_edgelist.csv\n",
            "Read edges for target<id_36> from edgelist: ./data/relation_id_36_edgelist.csv\n",
            "Read edges for target<id_37> from edgelist: ./data/relation_id_37_edgelist.csv\n",
            "Read edges for target<id_38> from edgelist: ./data/relation_id_38_edgelist.csv\n",
            "Read edges for target<DeviceType> from edgelist: ./data/relation_DeviceType_edgelist.csv\n",
            "Read edges for target<DeviceInfo> from edgelist: ./data/relation_DeviceInfo_edgelist.csv\n",
            "Read in features for target nodes\n",
            "Constructed heterograph with the following metagraph structure: Node types ['DeviceInfo', 'DeviceType', 'P_emaildomain', 'ProductCD', 'R_emaildomain', 'addr1', 'addr2', 'card1', 'card2', 'card3', 'card4', 'card5', 'card6', 'id_01', 'id_02', 'id_03', 'id_04', 'id_05', 'id_06', 'id_07', 'id_08', 'id_09', 'id_10', 'id_11', 'id_12', 'id_13', 'id_14', 'id_15', 'id_16', 'id_17', 'id_18', 'id_19', 'id_20', 'id_21', 'id_22', 'id_23', 'id_24', 'id_25', 'id_26', 'id_27', 'id_28', 'id_29', 'id_30', 'id_31', 'id_32', 'id_33', 'id_34', 'id_35', 'id_36', 'id_37', 'id_38', 'target'], Edge types[('DeviceInfo', 'DeviceInfo<>target', 'target'), ('DeviceType', 'DeviceType<>target', 'target'), ('P_emaildomain', 'P_emaildomain<>target', 'target'), ('ProductCD', 'ProductCD<>target', 'target'), ('R_emaildomain', 'R_emaildomain<>target', 'target'), ('addr1', 'addr1<>target', 'target'), ('addr2', 'addr2<>target', 'target'), ('card1', 'card1<>target', 'target'), ('card2', 'card2<>target', 'target'), ('card3', 'card3<>target', 'target'), ('card4', 'card4<>target', 'target'), ('card5', 'card5<>target', 'target'), ('card6', 'card6<>target', 'target'), ('id_01', 'id_01<>target', 'target'), ('id_02', 'id_02<>target', 'target'), ('id_03', 'id_03<>target', 'target'), ('id_04', 'id_04<>target', 'target'), ('id_05', 'id_05<>target', 'target'), ('id_06', 'id_06<>target', 'target'), ('id_07', 'id_07<>target', 'target'), ('id_08', 'id_08<>target', 'target'), ('id_09', 'id_09<>target', 'target'), ('id_10', 'id_10<>target', 'target'), ('id_11', 'id_11<>target', 'target'), ('id_12', 'id_12<>target', 'target'), ('id_13', 'id_13<>target', 'target'), ('id_14', 'id_14<>target', 'target'), ('id_15', 'id_15<>target', 'target'), ('id_16', 'id_16<>target', 'target'), ('id_17', 'id_17<>target', 'target'), ('id_18', 'id_18<>target', 'target'), ('id_19', 'id_19<>target', 'target'), ('id_20', 'id_20<>target', 'target'), ('id_21', 'id_21<>target', 'target'), ('id_22', 'id_22<>target', 'target'), ('id_23', 'id_23<>target', 'target'), ('id_24', 'id_24<>target', 'target'), ('id_25', 'id_25<>target', 'target'), ('id_26', 'id_26<>target', 'target'), ('id_27', 'id_27<>target', 'target'), ('id_28', 'id_28<>target', 'target'), ('id_29', 'id_29<>target', 'target'), ('id_30', 'id_30<>target', 'target'), ('id_31', 'id_31<>target', 'target'), ('id_32', 'id_32<>target', 'target'), ('id_33', 'id_33<>target', 'target'), ('id_34', 'id_34<>target', 'target'), ('id_35', 'id_35<>target', 'target'), ('id_36', 'id_36<>target', 'target'), ('id_37', 'id_37<>target', 'target'), ('id_38', 'id_38<>target', 'target'), ('target', 'self_relation', 'target'), ('target', 'target<>DeviceInfo', 'DeviceInfo'), ('target', 'target<>DeviceType', 'DeviceType'), ('target', 'target<>P_emaildomain', 'P_emaildomain'), ('target', 'target<>ProductCD', 'ProductCD'), ('target', 'target<>R_emaildomain', 'R_emaildomain'), ('target', 'target<>addr1', 'addr1'), ('target', 'target<>addr2', 'addr2'), ('target', 'target<>card1', 'card1'), ('target', 'target<>card2', 'card2'), ('target', 'target<>card3', 'card3'), ('target', 'target<>card4', 'card4'), ('target', 'target<>card5', 'card5'), ('target', 'target<>card6', 'card6'), ('target', 'target<>id_01', 'id_01'), ('target', 'target<>id_02', 'id_02'), ('target', 'target<>id_03', 'id_03'), ('target', 'target<>id_04', 'id_04'), ('target', 'target<>id_05', 'id_05'), ('target', 'target<>id_06', 'id_06'), ('target', 'target<>id_07', 'id_07'), ('target', 'target<>id_08', 'id_08'), ('target', 'target<>id_09', 'id_09'), ('target', 'target<>id_10', 'id_10'), ('target', 'target<>id_11', 'id_11'), ('target', 'target<>id_12', 'id_12'), ('target', 'target<>id_13', 'id_13'), ('target', 'target<>id_14', 'id_14'), ('target', 'target<>id_15', 'id_15'), ('target', 'target<>id_16', 'id_16'), ('target', 'target<>id_17', 'id_17'), ('target', 'target<>id_18', 'id_18'), ('target', 'target<>id_19', 'id_19'), ('target', 'target<>id_20', 'id_20'), ('target', 'target<>id_21', 'id_21'), ('target', 'target<>id_22', 'id_22'), ('target', 'target<>id_23', 'id_23'), ('target', 'target<>id_24', 'id_24'), ('target', 'target<>id_25', 'id_25'), ('target', 'target<>id_26', 'id_26'), ('target', 'target<>id_27', 'id_27'), ('target', 'target<>id_28', 'id_28'), ('target', 'target<>id_29', 'id_29'), ('target', 'target<>id_30', 'id_30'), ('target', 'target<>id_31', 'id_31'), ('target', 'target<>id_32', 'id_32'), ('target', 'target<>id_33', 'id_33'), ('target', 'target<>id_34', 'id_34'), ('target', 'target<>id_35', 'id_35'), ('target', 'target<>id_36', 'id_36'), ('target', 'target<>id_37', 'id_37'), ('target', 'target<>id_38', 'id_38')]\n",
            "Number of nodes of type target : 59054\n",
            "feature mean shape:torch.Size([390]), std shape:torch.Size([390])\n",
            "Getting labels\n",
            "Got labels\n",
            "----Data statistics------'\n",
            "                #Nodes: 82464\n",
            "                #Edges: 1943174\n",
            "                #Features Shape: torch.Size([59054, 390])\n",
            "                #Labeled Test samples: 11811.0\n",
            "Using device: cpu\n",
            "Initializing Model\n",
            "Initialized Model\n",
            "Starting Model training\n",
            "Epoch 00000, Time(s) 6.8151, Loss 0.5603, F1 0.0000 \n",
            "Epoch 00001, Time(s) 6.1388, Loss 4.3395, F1 0.0000 \n",
            "Epoch 00002, Time(s) 6.0223, Loss 1.7746, F1 0.1844 \n",
            "Epoch 00003, Time(s) 6.0671, Loss 0.8745, F1 0.2143 \n",
            "Epoch 00004, Time(s) 5.7283, Loss 0.3708, F1 0.0076 \n",
            "Epoch 00005, Time(s) 5.6500, Loss 0.4758, F1 0.0010 \n",
            "Epoch 00006, Time(s) 5.5199, Loss 0.5537, F1 0.0171 \n",
            "Epoch 00007, Time(s) 5.5132, Loss 0.4521, F1 0.1145 \n",
            "Epoch 00008, Time(s) 5.5039, Loss 0.2721, F1 0.2425 \n",
            "Epoch 00009, Time(s) 5.4403, Loss 0.3026, F1 0.2686 \n",
            "F1: 0.3211, Precision: 0.3861, Recall: 0.2748, Acc: 0.9563, ROC: 0.8252, PR: 0.2761, AP: 0.2761\n",
            "Metrics\n",
            "Confusion Matrix:\n",
            "                                [[11173   194]\n",
            " [  322   122]]\n",
            "                                f1: 0.3211, precision: 0.3861, recall: 0.2748, acc: 0.9563, roc: 0.8252, pr: 0.2761, ap: 0.2761\n",
            "                             \n",
            "Finished Model training\n",
            "Saving model\n",
            "Model and metadata saved\n"
          ]
        }
      ]
    },
    {
      "cell_type": "code",
      "source": [
        "!python train.py --n-epochs 10 --n-hidden 32 --embedding-size 128 --n-layers 3 --weight 2 --threshold 0.91 --dropout 0.0\n",
        "#F1: 0.3188, Precision: 0.4034, Recall: 0.2635, Acc: 0.9577, ROC: 0.8252, PR: 0.2761, AP: 0.2761"
      ],
      "metadata": {
        "collapsed": true,
        "id": "oy5VddBx3uLA",
        "outputId": "dd6458ec-9bce-4224-fdd4-7650024be37a",
        "colab": {
          "base_uri": "https://localhost:8080/"
        }
      },
      "execution_count": 22,
      "outputs": [
        {
          "output_type": "stream",
          "name": "stdout",
          "text": [
            "DLG version: 1.1.2\n",
            "numpy version:2.0.2 PyTorch version:2.6.0+cu124 DGL version:1.1.2\n",
            "Namespace(training_dir='./data', predicting_dir='./tdata', model_dir='./model/2025_07_25_16_22_48', model_predict_dir='./model/2025_07_20_08_53_50', output_dir='./output', nodes='features.csv', edges='relation*', labels='tags.csv', new_accounts='test.csv', target_ntype='TransactionID', compute_metrics=True, threshold=0.91, optimizer='adam', lr=0.01, n_epochs=10, n_hidden=32, n_layers=3, weight_decay=0.0005, dropout=0.2, embedding_size=128, weight=2.0, num_gpus=0)\n",
            "Getting relation graphs from the following edge lists : ['relation_card1_edgelist.csv', 'relation_card2_edgelist.csv', 'relation_card3_edgelist.csv', 'relation_card4_edgelist.csv', 'relation_card5_edgelist.csv', 'relation_card6_edgelist.csv', 'relation_ProductCD_edgelist.csv', 'relation_addr1_edgelist.csv', 'relation_addr2_edgelist.csv', 'relation_P_emaildomain_edgelist.csv', 'relation_R_emaildomain_edgelist.csv', 'relation_TransactionID_edgelist.csv', 'relation_id_01_edgelist.csv', 'relation_id_02_edgelist.csv', 'relation_id_03_edgelist.csv', 'relation_id_04_edgelist.csv', 'relation_id_05_edgelist.csv', 'relation_id_06_edgelist.csv', 'relation_id_07_edgelist.csv', 'relation_id_08_edgelist.csv', 'relation_id_09_edgelist.csv', 'relation_id_10_edgelist.csv', 'relation_id_11_edgelist.csv', 'relation_id_12_edgelist.csv', 'relation_id_13_edgelist.csv', 'relation_id_14_edgelist.csv', 'relation_id_15_edgelist.csv', 'relation_id_16_edgelist.csv', 'relation_id_17_edgelist.csv', 'relation_id_18_edgelist.csv', 'relation_id_19_edgelist.csv', 'relation_id_20_edgelist.csv', 'relation_id_21_edgelist.csv', 'relation_id_22_edgelist.csv', 'relation_id_23_edgelist.csv', 'relation_id_24_edgelist.csv', 'relation_id_25_edgelist.csv', 'relation_id_26_edgelist.csv', 'relation_id_27_edgelist.csv', 'relation_id_28_edgelist.csv', 'relation_id_29_edgelist.csv', 'relation_id_30_edgelist.csv', 'relation_id_31_edgelist.csv', 'relation_id_32_edgelist.csv', 'relation_id_33_edgelist.csv', 'relation_id_34_edgelist.csv', 'relation_id_35_edgelist.csv', 'relation_id_36_edgelist.csv', 'relation_id_37_edgelist.csv', 'relation_id_38_edgelist.csv', 'relation_DeviceType_edgelist.csv', 'relation_DeviceInfo_edgelist.csv'] \n",
            "Read edges for target<card1> from edgelist: ./data/relation_card1_edgelist.csv\n",
            "Read edges for target<card2> from edgelist: ./data/relation_card2_edgelist.csv\n",
            "Read edges for target<card3> from edgelist: ./data/relation_card3_edgelist.csv\n",
            "Read edges for target<card4> from edgelist: ./data/relation_card4_edgelist.csv\n",
            "Read edges for target<card5> from edgelist: ./data/relation_card5_edgelist.csv\n",
            "Read edges for target<card6> from edgelist: ./data/relation_card6_edgelist.csv\n",
            "Read edges for target<ProductCD> from edgelist: ./data/relation_ProductCD_edgelist.csv\n",
            "Read edges for target<addr1> from edgelist: ./data/relation_addr1_edgelist.csv\n",
            "Read edges for target<addr2> from edgelist: ./data/relation_addr2_edgelist.csv\n",
            "Read edges for target<P_emaildomain> from edgelist: ./data/relation_P_emaildomain_edgelist.csv\n",
            "Read edges for target<R_emaildomain> from edgelist: ./data/relation_R_emaildomain_edgelist.csv\n",
            "Will add self loop for target later......\n",
            "Read edges for target<id_01> from edgelist: ./data/relation_id_01_edgelist.csv\n",
            "Read edges for target<id_02> from edgelist: ./data/relation_id_02_edgelist.csv\n",
            "Read edges for target<id_03> from edgelist: ./data/relation_id_03_edgelist.csv\n",
            "Read edges for target<id_04> from edgelist: ./data/relation_id_04_edgelist.csv\n",
            "Read edges for target<id_05> from edgelist: ./data/relation_id_05_edgelist.csv\n",
            "Read edges for target<id_06> from edgelist: ./data/relation_id_06_edgelist.csv\n",
            "Read edges for target<id_07> from edgelist: ./data/relation_id_07_edgelist.csv\n",
            "Read edges for target<id_08> from edgelist: ./data/relation_id_08_edgelist.csv\n",
            "Read edges for target<id_09> from edgelist: ./data/relation_id_09_edgelist.csv\n",
            "Read edges for target<id_10> from edgelist: ./data/relation_id_10_edgelist.csv\n",
            "Read edges for target<id_11> from edgelist: ./data/relation_id_11_edgelist.csv\n",
            "Read edges for target<id_12> from edgelist: ./data/relation_id_12_edgelist.csv\n",
            "Read edges for target<id_13> from edgelist: ./data/relation_id_13_edgelist.csv\n",
            "Read edges for target<id_14> from edgelist: ./data/relation_id_14_edgelist.csv\n",
            "Read edges for target<id_15> from edgelist: ./data/relation_id_15_edgelist.csv\n",
            "Read edges for target<id_16> from edgelist: ./data/relation_id_16_edgelist.csv\n",
            "Read edges for target<id_17> from edgelist: ./data/relation_id_17_edgelist.csv\n",
            "Read edges for target<id_18> from edgelist: ./data/relation_id_18_edgelist.csv\n",
            "Read edges for target<id_19> from edgelist: ./data/relation_id_19_edgelist.csv\n",
            "Read edges for target<id_20> from edgelist: ./data/relation_id_20_edgelist.csv\n",
            "Read edges for target<id_21> from edgelist: ./data/relation_id_21_edgelist.csv\n",
            "Read edges for target<id_22> from edgelist: ./data/relation_id_22_edgelist.csv\n",
            "Read edges for target<id_23> from edgelist: ./data/relation_id_23_edgelist.csv\n",
            "Read edges for target<id_24> from edgelist: ./data/relation_id_24_edgelist.csv\n",
            "Read edges for target<id_25> from edgelist: ./data/relation_id_25_edgelist.csv\n",
            "Read edges for target<id_26> from edgelist: ./data/relation_id_26_edgelist.csv\n",
            "Read edges for target<id_27> from edgelist: ./data/relation_id_27_edgelist.csv\n",
            "Read edges for target<id_28> from edgelist: ./data/relation_id_28_edgelist.csv\n",
            "Read edges for target<id_29> from edgelist: ./data/relation_id_29_edgelist.csv\n",
            "Read edges for target<id_30> from edgelist: ./data/relation_id_30_edgelist.csv\n",
            "Read edges for target<id_31> from edgelist: ./data/relation_id_31_edgelist.csv\n",
            "Read edges for target<id_32> from edgelist: ./data/relation_id_32_edgelist.csv\n",
            "Read edges for target<id_33> from edgelist: ./data/relation_id_33_edgelist.csv\n",
            "Read edges for target<id_34> from edgelist: ./data/relation_id_34_edgelist.csv\n",
            "Read edges for target<id_35> from edgelist: ./data/relation_id_35_edgelist.csv\n",
            "Read edges for target<id_36> from edgelist: ./data/relation_id_36_edgelist.csv\n",
            "Read edges for target<id_37> from edgelist: ./data/relation_id_37_edgelist.csv\n",
            "Read edges for target<id_38> from edgelist: ./data/relation_id_38_edgelist.csv\n",
            "Read edges for target<DeviceType> from edgelist: ./data/relation_DeviceType_edgelist.csv\n",
            "Read edges for target<DeviceInfo> from edgelist: ./data/relation_DeviceInfo_edgelist.csv\n",
            "Read in features for target nodes\n",
            "Constructed heterograph with the following metagraph structure: Node types ['DeviceInfo', 'DeviceType', 'P_emaildomain', 'ProductCD', 'R_emaildomain', 'addr1', 'addr2', 'card1', 'card2', 'card3', 'card4', 'card5', 'card6', 'id_01', 'id_02', 'id_03', 'id_04', 'id_05', 'id_06', 'id_07', 'id_08', 'id_09', 'id_10', 'id_11', 'id_12', 'id_13', 'id_14', 'id_15', 'id_16', 'id_17', 'id_18', 'id_19', 'id_20', 'id_21', 'id_22', 'id_23', 'id_24', 'id_25', 'id_26', 'id_27', 'id_28', 'id_29', 'id_30', 'id_31', 'id_32', 'id_33', 'id_34', 'id_35', 'id_36', 'id_37', 'id_38', 'target'], Edge types[('DeviceInfo', 'DeviceInfo<>target', 'target'), ('DeviceType', 'DeviceType<>target', 'target'), ('P_emaildomain', 'P_emaildomain<>target', 'target'), ('ProductCD', 'ProductCD<>target', 'target'), ('R_emaildomain', 'R_emaildomain<>target', 'target'), ('addr1', 'addr1<>target', 'target'), ('addr2', 'addr2<>target', 'target'), ('card1', 'card1<>target', 'target'), ('card2', 'card2<>target', 'target'), ('card3', 'card3<>target', 'target'), ('card4', 'card4<>target', 'target'), ('card5', 'card5<>target', 'target'), ('card6', 'card6<>target', 'target'), ('id_01', 'id_01<>target', 'target'), ('id_02', 'id_02<>target', 'target'), ('id_03', 'id_03<>target', 'target'), ('id_04', 'id_04<>target', 'target'), ('id_05', 'id_05<>target', 'target'), ('id_06', 'id_06<>target', 'target'), ('id_07', 'id_07<>target', 'target'), ('id_08', 'id_08<>target', 'target'), ('id_09', 'id_09<>target', 'target'), ('id_10', 'id_10<>target', 'target'), ('id_11', 'id_11<>target', 'target'), ('id_12', 'id_12<>target', 'target'), ('id_13', 'id_13<>target', 'target'), ('id_14', 'id_14<>target', 'target'), ('id_15', 'id_15<>target', 'target'), ('id_16', 'id_16<>target', 'target'), ('id_17', 'id_17<>target', 'target'), ('id_18', 'id_18<>target', 'target'), ('id_19', 'id_19<>target', 'target'), ('id_20', 'id_20<>target', 'target'), ('id_21', 'id_21<>target', 'target'), ('id_22', 'id_22<>target', 'target'), ('id_23', 'id_23<>target', 'target'), ('id_24', 'id_24<>target', 'target'), ('id_25', 'id_25<>target', 'target'), ('id_26', 'id_26<>target', 'target'), ('id_27', 'id_27<>target', 'target'), ('id_28', 'id_28<>target', 'target'), ('id_29', 'id_29<>target', 'target'), ('id_30', 'id_30<>target', 'target'), ('id_31', 'id_31<>target', 'target'), ('id_32', 'id_32<>target', 'target'), ('id_33', 'id_33<>target', 'target'), ('id_34', 'id_34<>target', 'target'), ('id_35', 'id_35<>target', 'target'), ('id_36', 'id_36<>target', 'target'), ('id_37', 'id_37<>target', 'target'), ('id_38', 'id_38<>target', 'target'), ('target', 'self_relation', 'target'), ('target', 'target<>DeviceInfo', 'DeviceInfo'), ('target', 'target<>DeviceType', 'DeviceType'), ('target', 'target<>P_emaildomain', 'P_emaildomain'), ('target', 'target<>ProductCD', 'ProductCD'), ('target', 'target<>R_emaildomain', 'R_emaildomain'), ('target', 'target<>addr1', 'addr1'), ('target', 'target<>addr2', 'addr2'), ('target', 'target<>card1', 'card1'), ('target', 'target<>card2', 'card2'), ('target', 'target<>card3', 'card3'), ('target', 'target<>card4', 'card4'), ('target', 'target<>card5', 'card5'), ('target', 'target<>card6', 'card6'), ('target', 'target<>id_01', 'id_01'), ('target', 'target<>id_02', 'id_02'), ('target', 'target<>id_03', 'id_03'), ('target', 'target<>id_04', 'id_04'), ('target', 'target<>id_05', 'id_05'), ('target', 'target<>id_06', 'id_06'), ('target', 'target<>id_07', 'id_07'), ('target', 'target<>id_08', 'id_08'), ('target', 'target<>id_09', 'id_09'), ('target', 'target<>id_10', 'id_10'), ('target', 'target<>id_11', 'id_11'), ('target', 'target<>id_12', 'id_12'), ('target', 'target<>id_13', 'id_13'), ('target', 'target<>id_14', 'id_14'), ('target', 'target<>id_15', 'id_15'), ('target', 'target<>id_16', 'id_16'), ('target', 'target<>id_17', 'id_17'), ('target', 'target<>id_18', 'id_18'), ('target', 'target<>id_19', 'id_19'), ('target', 'target<>id_20', 'id_20'), ('target', 'target<>id_21', 'id_21'), ('target', 'target<>id_22', 'id_22'), ('target', 'target<>id_23', 'id_23'), ('target', 'target<>id_24', 'id_24'), ('target', 'target<>id_25', 'id_25'), ('target', 'target<>id_26', 'id_26'), ('target', 'target<>id_27', 'id_27'), ('target', 'target<>id_28', 'id_28'), ('target', 'target<>id_29', 'id_29'), ('target', 'target<>id_30', 'id_30'), ('target', 'target<>id_31', 'id_31'), ('target', 'target<>id_32', 'id_32'), ('target', 'target<>id_33', 'id_33'), ('target', 'target<>id_34', 'id_34'), ('target', 'target<>id_35', 'id_35'), ('target', 'target<>id_36', 'id_36'), ('target', 'target<>id_37', 'id_37'), ('target', 'target<>id_38', 'id_38')]\n",
            "Number of nodes of type target : 59054\n",
            "feature mean shape:torch.Size([390]), std shape:torch.Size([390])\n",
            "Getting labels\n",
            "Got labels\n",
            "----Data statistics------'\n",
            "                #Nodes: 82464\n",
            "                #Edges: 1943174\n",
            "                #Features Shape: torch.Size([59054, 390])\n",
            "                #Labeled Test samples: 11811.0\n",
            "Using device: cpu\n",
            "Initializing Model\n",
            "Initialized Model\n",
            "Starting Model training\n",
            "Epoch 00000, Time(s) 7.5779, Loss 0.6551, F1 0.0000 \n",
            "Epoch 00001, Time(s) 6.6346, Loss 3.7369, F1 0.0486 \n",
            "Epoch 00002, Time(s) 6.1148, Loss 0.4501, F1 0.1395 \n",
            "Epoch 00003, Time(s) 5.8746, Loss 3.8593, F1 0.0906 \n",
            "Epoch 00004, Time(s) 5.5459, Loss 0.2375, F1 0.0010 \n",
            "Epoch 00005, Time(s) 5.4651, Loss 0.3477, F1 0.0010 \n",
            "Epoch 00006, Time(s) 5.3257, Loss 0.3455, F1 0.0010 \n",
            "Epoch 00007, Time(s) 5.3119, Loss 0.2975, F1 0.0171 \n",
            "Epoch 00008, Time(s) 5.2468, Loss 0.2418, F1 0.1735 \n",
            "Epoch 00009, Time(s) 5.2083, Loss 0.2303, F1 0.2621 \n",
            "F1: 0.0480, Precision: 0.7857, Recall: 0.0248, Acc: 0.9631, ROC: 0.7664, PR: 0.2371, AP: 0.2371\n",
            "Metrics\n",
            "Confusion Matrix:\n",
            "                                [[11364     3]\n",
            " [  433    11]]\n",
            "                                f1: 0.0480, precision: 0.7857, recall: 0.0248, acc: 0.9631, roc: 0.7664, pr: 0.2371, ap: 0.2371\n",
            "                             \n",
            "Finished Model training\n",
            "Saving model\n",
            "Model and metadata saved\n"
          ]
        }
      ]
    },
    {
      "cell_type": "code",
      "source": [
        "!python train.py --n-epochs 10 --n-hidden 48 --embedding-size 180 --n-layers 2 --weight 2 --threshold 0.15 --dropout 0.0\n",
        "#F1: 0.3283, Precision: 0.3701, Recall: 0.2950, Acc: 0.9546, ROC: 0.8252, PR: 0.2761, AP: 0.2761"
      ],
      "metadata": {
        "collapsed": true,
        "id": "PNTAYB6wvOuA",
        "outputId": "9e2ba26a-f44e-4997-bd41-f4e073105460",
        "colab": {
          "base_uri": "https://localhost:8080/"
        }
      },
      "execution_count": 20,
      "outputs": [
        {
          "output_type": "stream",
          "name": "stdout",
          "text": [
            "DLG version: 1.1.2\n",
            "numpy version:2.0.2 PyTorch version:2.6.0+cu124 DGL version:1.1.2\n",
            "Namespace(training_dir='./data', predicting_dir='./tdata', model_dir='./model/2025_07_25_16_14_21', model_predict_dir='./model/2025_07_20_08_53_50', output_dir='./output', nodes='features.csv', edges='relation*', labels='tags.csv', new_accounts='test.csv', target_ntype='TransactionID', compute_metrics=True, threshold=0.91, optimizer='adam', lr=0.01, n_epochs=10, n_hidden=48, n_layers=2, weight_decay=0.0005, dropout=0.2, embedding_size=180, weight=2.0, num_gpus=0)\n",
            "Getting relation graphs from the following edge lists : ['relation_card1_edgelist.csv', 'relation_card2_edgelist.csv', 'relation_card3_edgelist.csv', 'relation_card4_edgelist.csv', 'relation_card5_edgelist.csv', 'relation_card6_edgelist.csv', 'relation_ProductCD_edgelist.csv', 'relation_addr1_edgelist.csv', 'relation_addr2_edgelist.csv', 'relation_P_emaildomain_edgelist.csv', 'relation_R_emaildomain_edgelist.csv', 'relation_TransactionID_edgelist.csv', 'relation_id_01_edgelist.csv', 'relation_id_02_edgelist.csv', 'relation_id_03_edgelist.csv', 'relation_id_04_edgelist.csv', 'relation_id_05_edgelist.csv', 'relation_id_06_edgelist.csv', 'relation_id_07_edgelist.csv', 'relation_id_08_edgelist.csv', 'relation_id_09_edgelist.csv', 'relation_id_10_edgelist.csv', 'relation_id_11_edgelist.csv', 'relation_id_12_edgelist.csv', 'relation_id_13_edgelist.csv', 'relation_id_14_edgelist.csv', 'relation_id_15_edgelist.csv', 'relation_id_16_edgelist.csv', 'relation_id_17_edgelist.csv', 'relation_id_18_edgelist.csv', 'relation_id_19_edgelist.csv', 'relation_id_20_edgelist.csv', 'relation_id_21_edgelist.csv', 'relation_id_22_edgelist.csv', 'relation_id_23_edgelist.csv', 'relation_id_24_edgelist.csv', 'relation_id_25_edgelist.csv', 'relation_id_26_edgelist.csv', 'relation_id_27_edgelist.csv', 'relation_id_28_edgelist.csv', 'relation_id_29_edgelist.csv', 'relation_id_30_edgelist.csv', 'relation_id_31_edgelist.csv', 'relation_id_32_edgelist.csv', 'relation_id_33_edgelist.csv', 'relation_id_34_edgelist.csv', 'relation_id_35_edgelist.csv', 'relation_id_36_edgelist.csv', 'relation_id_37_edgelist.csv', 'relation_id_38_edgelist.csv', 'relation_DeviceType_edgelist.csv', 'relation_DeviceInfo_edgelist.csv'] \n",
            "Read edges for target<card1> from edgelist: ./data/relation_card1_edgelist.csv\n",
            "Read edges for target<card2> from edgelist: ./data/relation_card2_edgelist.csv\n",
            "Read edges for target<card3> from edgelist: ./data/relation_card3_edgelist.csv\n",
            "Read edges for target<card4> from edgelist: ./data/relation_card4_edgelist.csv\n",
            "Read edges for target<card5> from edgelist: ./data/relation_card5_edgelist.csv\n",
            "Read edges for target<card6> from edgelist: ./data/relation_card6_edgelist.csv\n",
            "Read edges for target<ProductCD> from edgelist: ./data/relation_ProductCD_edgelist.csv\n",
            "Read edges for target<addr1> from edgelist: ./data/relation_addr1_edgelist.csv\n",
            "Read edges for target<addr2> from edgelist: ./data/relation_addr2_edgelist.csv\n",
            "Read edges for target<P_emaildomain> from edgelist: ./data/relation_P_emaildomain_edgelist.csv\n",
            "Read edges for target<R_emaildomain> from edgelist: ./data/relation_R_emaildomain_edgelist.csv\n",
            "Will add self loop for target later......\n",
            "Read edges for target<id_01> from edgelist: ./data/relation_id_01_edgelist.csv\n",
            "Read edges for target<id_02> from edgelist: ./data/relation_id_02_edgelist.csv\n",
            "Read edges for target<id_03> from edgelist: ./data/relation_id_03_edgelist.csv\n",
            "Read edges for target<id_04> from edgelist: ./data/relation_id_04_edgelist.csv\n",
            "Read edges for target<id_05> from edgelist: ./data/relation_id_05_edgelist.csv\n",
            "Read edges for target<id_06> from edgelist: ./data/relation_id_06_edgelist.csv\n",
            "Read edges for target<id_07> from edgelist: ./data/relation_id_07_edgelist.csv\n",
            "Read edges for target<id_08> from edgelist: ./data/relation_id_08_edgelist.csv\n",
            "Read edges for target<id_09> from edgelist: ./data/relation_id_09_edgelist.csv\n",
            "Read edges for target<id_10> from edgelist: ./data/relation_id_10_edgelist.csv\n",
            "Read edges for target<id_11> from edgelist: ./data/relation_id_11_edgelist.csv\n",
            "Read edges for target<id_12> from edgelist: ./data/relation_id_12_edgelist.csv\n",
            "Read edges for target<id_13> from edgelist: ./data/relation_id_13_edgelist.csv\n",
            "Read edges for target<id_14> from edgelist: ./data/relation_id_14_edgelist.csv\n",
            "Read edges for target<id_15> from edgelist: ./data/relation_id_15_edgelist.csv\n",
            "Read edges for target<id_16> from edgelist: ./data/relation_id_16_edgelist.csv\n",
            "Read edges for target<id_17> from edgelist: ./data/relation_id_17_edgelist.csv\n",
            "Read edges for target<id_18> from edgelist: ./data/relation_id_18_edgelist.csv\n",
            "Read edges for target<id_19> from edgelist: ./data/relation_id_19_edgelist.csv\n",
            "Read edges for target<id_20> from edgelist: ./data/relation_id_20_edgelist.csv\n",
            "Read edges for target<id_21> from edgelist: ./data/relation_id_21_edgelist.csv\n",
            "Read edges for target<id_22> from edgelist: ./data/relation_id_22_edgelist.csv\n",
            "Read edges for target<id_23> from edgelist: ./data/relation_id_23_edgelist.csv\n",
            "Read edges for target<id_24> from edgelist: ./data/relation_id_24_edgelist.csv\n",
            "Read edges for target<id_25> from edgelist: ./data/relation_id_25_edgelist.csv\n",
            "Read edges for target<id_26> from edgelist: ./data/relation_id_26_edgelist.csv\n",
            "Read edges for target<id_27> from edgelist: ./data/relation_id_27_edgelist.csv\n",
            "Read edges for target<id_28> from edgelist: ./data/relation_id_28_edgelist.csv\n",
            "Read edges for target<id_29> from edgelist: ./data/relation_id_29_edgelist.csv\n",
            "Read edges for target<id_30> from edgelist: ./data/relation_id_30_edgelist.csv\n",
            "Read edges for target<id_31> from edgelist: ./data/relation_id_31_edgelist.csv\n",
            "Read edges for target<id_32> from edgelist: ./data/relation_id_32_edgelist.csv\n",
            "Read edges for target<id_33> from edgelist: ./data/relation_id_33_edgelist.csv\n",
            "Read edges for target<id_34> from edgelist: ./data/relation_id_34_edgelist.csv\n",
            "Read edges for target<id_35> from edgelist: ./data/relation_id_35_edgelist.csv\n",
            "Read edges for target<id_36> from edgelist: ./data/relation_id_36_edgelist.csv\n",
            "Read edges for target<id_37> from edgelist: ./data/relation_id_37_edgelist.csv\n",
            "Read edges for target<id_38> from edgelist: ./data/relation_id_38_edgelist.csv\n",
            "Read edges for target<DeviceType> from edgelist: ./data/relation_DeviceType_edgelist.csv\n",
            "Read edges for target<DeviceInfo> from edgelist: ./data/relation_DeviceInfo_edgelist.csv\n",
            "Read in features for target nodes\n",
            "Constructed heterograph with the following metagraph structure: Node types ['DeviceInfo', 'DeviceType', 'P_emaildomain', 'ProductCD', 'R_emaildomain', 'addr1', 'addr2', 'card1', 'card2', 'card3', 'card4', 'card5', 'card6', 'id_01', 'id_02', 'id_03', 'id_04', 'id_05', 'id_06', 'id_07', 'id_08', 'id_09', 'id_10', 'id_11', 'id_12', 'id_13', 'id_14', 'id_15', 'id_16', 'id_17', 'id_18', 'id_19', 'id_20', 'id_21', 'id_22', 'id_23', 'id_24', 'id_25', 'id_26', 'id_27', 'id_28', 'id_29', 'id_30', 'id_31', 'id_32', 'id_33', 'id_34', 'id_35', 'id_36', 'id_37', 'id_38', 'target'], Edge types[('DeviceInfo', 'DeviceInfo<>target', 'target'), ('DeviceType', 'DeviceType<>target', 'target'), ('P_emaildomain', 'P_emaildomain<>target', 'target'), ('ProductCD', 'ProductCD<>target', 'target'), ('R_emaildomain', 'R_emaildomain<>target', 'target'), ('addr1', 'addr1<>target', 'target'), ('addr2', 'addr2<>target', 'target'), ('card1', 'card1<>target', 'target'), ('card2', 'card2<>target', 'target'), ('card3', 'card3<>target', 'target'), ('card4', 'card4<>target', 'target'), ('card5', 'card5<>target', 'target'), ('card6', 'card6<>target', 'target'), ('id_01', 'id_01<>target', 'target'), ('id_02', 'id_02<>target', 'target'), ('id_03', 'id_03<>target', 'target'), ('id_04', 'id_04<>target', 'target'), ('id_05', 'id_05<>target', 'target'), ('id_06', 'id_06<>target', 'target'), ('id_07', 'id_07<>target', 'target'), ('id_08', 'id_08<>target', 'target'), ('id_09', 'id_09<>target', 'target'), ('id_10', 'id_10<>target', 'target'), ('id_11', 'id_11<>target', 'target'), ('id_12', 'id_12<>target', 'target'), ('id_13', 'id_13<>target', 'target'), ('id_14', 'id_14<>target', 'target'), ('id_15', 'id_15<>target', 'target'), ('id_16', 'id_16<>target', 'target'), ('id_17', 'id_17<>target', 'target'), ('id_18', 'id_18<>target', 'target'), ('id_19', 'id_19<>target', 'target'), ('id_20', 'id_20<>target', 'target'), ('id_21', 'id_21<>target', 'target'), ('id_22', 'id_22<>target', 'target'), ('id_23', 'id_23<>target', 'target'), ('id_24', 'id_24<>target', 'target'), ('id_25', 'id_25<>target', 'target'), ('id_26', 'id_26<>target', 'target'), ('id_27', 'id_27<>target', 'target'), ('id_28', 'id_28<>target', 'target'), ('id_29', 'id_29<>target', 'target'), ('id_30', 'id_30<>target', 'target'), ('id_31', 'id_31<>target', 'target'), ('id_32', 'id_32<>target', 'target'), ('id_33', 'id_33<>target', 'target'), ('id_34', 'id_34<>target', 'target'), ('id_35', 'id_35<>target', 'target'), ('id_36', 'id_36<>target', 'target'), ('id_37', 'id_37<>target', 'target'), ('id_38', 'id_38<>target', 'target'), ('target', 'self_relation', 'target'), ('target', 'target<>DeviceInfo', 'DeviceInfo'), ('target', 'target<>DeviceType', 'DeviceType'), ('target', 'target<>P_emaildomain', 'P_emaildomain'), ('target', 'target<>ProductCD', 'ProductCD'), ('target', 'target<>R_emaildomain', 'R_emaildomain'), ('target', 'target<>addr1', 'addr1'), ('target', 'target<>addr2', 'addr2'), ('target', 'target<>card1', 'card1'), ('target', 'target<>card2', 'card2'), ('target', 'target<>card3', 'card3'), ('target', 'target<>card4', 'card4'), ('target', 'target<>card5', 'card5'), ('target', 'target<>card6', 'card6'), ('target', 'target<>id_01', 'id_01'), ('target', 'target<>id_02', 'id_02'), ('target', 'target<>id_03', 'id_03'), ('target', 'target<>id_04', 'id_04'), ('target', 'target<>id_05', 'id_05'), ('target', 'target<>id_06', 'id_06'), ('target', 'target<>id_07', 'id_07'), ('target', 'target<>id_08', 'id_08'), ('target', 'target<>id_09', 'id_09'), ('target', 'target<>id_10', 'id_10'), ('target', 'target<>id_11', 'id_11'), ('target', 'target<>id_12', 'id_12'), ('target', 'target<>id_13', 'id_13'), ('target', 'target<>id_14', 'id_14'), ('target', 'target<>id_15', 'id_15'), ('target', 'target<>id_16', 'id_16'), ('target', 'target<>id_17', 'id_17'), ('target', 'target<>id_18', 'id_18'), ('target', 'target<>id_19', 'id_19'), ('target', 'target<>id_20', 'id_20'), ('target', 'target<>id_21', 'id_21'), ('target', 'target<>id_22', 'id_22'), ('target', 'target<>id_23', 'id_23'), ('target', 'target<>id_24', 'id_24'), ('target', 'target<>id_25', 'id_25'), ('target', 'target<>id_26', 'id_26'), ('target', 'target<>id_27', 'id_27'), ('target', 'target<>id_28', 'id_28'), ('target', 'target<>id_29', 'id_29'), ('target', 'target<>id_30', 'id_30'), ('target', 'target<>id_31', 'id_31'), ('target', 'target<>id_32', 'id_32'), ('target', 'target<>id_33', 'id_33'), ('target', 'target<>id_34', 'id_34'), ('target', 'target<>id_35', 'id_35'), ('target', 'target<>id_36', 'id_36'), ('target', 'target<>id_37', 'id_37'), ('target', 'target<>id_38', 'id_38')]\n",
            "Number of nodes of type target : 59054\n",
            "feature mean shape:torch.Size([390]), std shape:torch.Size([390])\n",
            "Getting labels\n",
            "Got labels\n",
            "----Data statistics------'\n",
            "                #Nodes: 82464\n",
            "                #Edges: 1943174\n",
            "                #Features Shape: torch.Size([59054, 390])\n",
            "                #Labeled Test samples: 11811.0\n",
            "Using device: cpu\n",
            "Initializing Model\n",
            "Initialized Model\n",
            "Starting Model training\n",
            "Epoch 00000, Time(s) 6.4260, Loss 0.5603, F1 0.0000 \n",
            "Epoch 00001, Time(s) 6.4325, Loss 4.3395, F1 0.0000 \n",
            "Epoch 00002, Time(s) 6.4982, Loss 1.7746, F1 0.1844 \n",
            "Epoch 00003, Time(s) 6.1940, Loss 0.8745, F1 0.2143 \n",
            "Epoch 00004, Time(s) 5.8934, Loss 0.3708, F1 0.0076 \n",
            "Epoch 00005, Time(s) 5.7624, Loss 0.4758, F1 0.0010 \n",
            "Epoch 00006, Time(s) 5.6340, Loss 0.5537, F1 0.0171 \n",
            "Epoch 00007, Time(s) 5.6673, Loss 0.4521, F1 0.1145 \n",
            "Epoch 00008, Time(s) 5.5598, Loss 0.2721, F1 0.2425 \n",
            "Epoch 00009, Time(s) 5.5129, Loss 0.3026, F1 0.2686 \n",
            "F1: 0.3188, Precision: 0.4034, Recall: 0.2635, Acc: 0.9577, ROC: 0.8252, PR: 0.2761, AP: 0.2761\n",
            "Metrics\n",
            "Confusion Matrix:\n",
            "                                [[11194   173]\n",
            " [  327   117]]\n",
            "                                f1: 0.3188, precision: 0.4034, recall: 0.2635, acc: 0.9577, roc: 0.8252, pr: 0.2761, ap: 0.2761\n",
            "                             \n",
            "Finished Model training\n",
            "Saving model\n",
            "Model and metadata saved\n"
          ]
        }
      ]
    },
    {
      "cell_type": "code",
      "source": [
        "!python train.py --n-epochs 10 --n-hidden 48 --embedding-size 180 --n-layers 2 --weight 2 --threshold 0.15\n",
        "#F1: 0.3279, Precision: 0.3415, Recall: 0.3153, Acc: 0.9514, ROC: 0.8252, PR: 0.2761, AP: 0.2761"
      ],
      "metadata": {
        "collapsed": true,
        "id": "N44EsTnTv0GV",
        "outputId": "439fc794-e57c-4cef-f71d-2623ba08af61",
        "colab": {
          "base_uri": "https://localhost:8080/"
        }
      },
      "execution_count": 10,
      "outputs": [
        {
          "output_type": "stream",
          "name": "stdout",
          "text": [
            "DLG version: 1.1.2\n",
            "numpy version:2.0.2 PyTorch version:2.6.0+cu124 DGL version:1.1.2\n",
            "Namespace(training_dir='./data', predicting_dir='./tdata', model_dir='./model/2025_07_25_15_42_26', model_predict_dir='./model/2025_07_20_08_53_50', output_dir='./output', nodes='features.csv', edges='relation*', labels='tags.csv', new_accounts='test.csv', target_ntype='TransactionID', compute_metrics=True, threshold=0.15, optimizer='adam', lr=0.01, n_epochs=10, n_hidden=48, n_layers=2, weight_decay=0.0005, dropout=0.2, embedding_size=180, weight=2.0, num_gpus=0)\n",
            "Getting relation graphs from the following edge lists : ['relation_card1_edgelist.csv', 'relation_card2_edgelist.csv', 'relation_card3_edgelist.csv', 'relation_card4_edgelist.csv', 'relation_card5_edgelist.csv', 'relation_card6_edgelist.csv', 'relation_ProductCD_edgelist.csv', 'relation_addr1_edgelist.csv', 'relation_addr2_edgelist.csv', 'relation_P_emaildomain_edgelist.csv', 'relation_R_emaildomain_edgelist.csv', 'relation_TransactionID_edgelist.csv', 'relation_id_01_edgelist.csv', 'relation_id_02_edgelist.csv', 'relation_id_03_edgelist.csv', 'relation_id_04_edgelist.csv', 'relation_id_05_edgelist.csv', 'relation_id_06_edgelist.csv', 'relation_id_07_edgelist.csv', 'relation_id_08_edgelist.csv', 'relation_id_09_edgelist.csv', 'relation_id_10_edgelist.csv', 'relation_id_11_edgelist.csv', 'relation_id_12_edgelist.csv', 'relation_id_13_edgelist.csv', 'relation_id_14_edgelist.csv', 'relation_id_15_edgelist.csv', 'relation_id_16_edgelist.csv', 'relation_id_17_edgelist.csv', 'relation_id_18_edgelist.csv', 'relation_id_19_edgelist.csv', 'relation_id_20_edgelist.csv', 'relation_id_21_edgelist.csv', 'relation_id_22_edgelist.csv', 'relation_id_23_edgelist.csv', 'relation_id_24_edgelist.csv', 'relation_id_25_edgelist.csv', 'relation_id_26_edgelist.csv', 'relation_id_27_edgelist.csv', 'relation_id_28_edgelist.csv', 'relation_id_29_edgelist.csv', 'relation_id_30_edgelist.csv', 'relation_id_31_edgelist.csv', 'relation_id_32_edgelist.csv', 'relation_id_33_edgelist.csv', 'relation_id_34_edgelist.csv', 'relation_id_35_edgelist.csv', 'relation_id_36_edgelist.csv', 'relation_id_37_edgelist.csv', 'relation_id_38_edgelist.csv', 'relation_DeviceType_edgelist.csv', 'relation_DeviceInfo_edgelist.csv'] \n",
            "Read edges for target<card1> from edgelist: ./data/relation_card1_edgelist.csv\n",
            "Read edges for target<card2> from edgelist: ./data/relation_card2_edgelist.csv\n",
            "Read edges for target<card3> from edgelist: ./data/relation_card3_edgelist.csv\n",
            "Read edges for target<card4> from edgelist: ./data/relation_card4_edgelist.csv\n",
            "Read edges for target<card5> from edgelist: ./data/relation_card5_edgelist.csv\n",
            "Read edges for target<card6> from edgelist: ./data/relation_card6_edgelist.csv\n",
            "Read edges for target<ProductCD> from edgelist: ./data/relation_ProductCD_edgelist.csv\n",
            "Read edges for target<addr1> from edgelist: ./data/relation_addr1_edgelist.csv\n",
            "Read edges for target<addr2> from edgelist: ./data/relation_addr2_edgelist.csv\n",
            "Read edges for target<P_emaildomain> from edgelist: ./data/relation_P_emaildomain_edgelist.csv\n",
            "Read edges for target<R_emaildomain> from edgelist: ./data/relation_R_emaildomain_edgelist.csv\n",
            "Will add self loop for target later......\n",
            "Read edges for target<id_01> from edgelist: ./data/relation_id_01_edgelist.csv\n",
            "Read edges for target<id_02> from edgelist: ./data/relation_id_02_edgelist.csv\n",
            "Read edges for target<id_03> from edgelist: ./data/relation_id_03_edgelist.csv\n",
            "Read edges for target<id_04> from edgelist: ./data/relation_id_04_edgelist.csv\n",
            "Read edges for target<id_05> from edgelist: ./data/relation_id_05_edgelist.csv\n",
            "Read edges for target<id_06> from edgelist: ./data/relation_id_06_edgelist.csv\n",
            "Read edges for target<id_07> from edgelist: ./data/relation_id_07_edgelist.csv\n",
            "Read edges for target<id_08> from edgelist: ./data/relation_id_08_edgelist.csv\n",
            "Read edges for target<id_09> from edgelist: ./data/relation_id_09_edgelist.csv\n",
            "Read edges for target<id_10> from edgelist: ./data/relation_id_10_edgelist.csv\n",
            "Read edges for target<id_11> from edgelist: ./data/relation_id_11_edgelist.csv\n",
            "Read edges for target<id_12> from edgelist: ./data/relation_id_12_edgelist.csv\n",
            "Read edges for target<id_13> from edgelist: ./data/relation_id_13_edgelist.csv\n",
            "Read edges for target<id_14> from edgelist: ./data/relation_id_14_edgelist.csv\n",
            "Read edges for target<id_15> from edgelist: ./data/relation_id_15_edgelist.csv\n",
            "Read edges for target<id_16> from edgelist: ./data/relation_id_16_edgelist.csv\n",
            "Read edges for target<id_17> from edgelist: ./data/relation_id_17_edgelist.csv\n",
            "Read edges for target<id_18> from edgelist: ./data/relation_id_18_edgelist.csv\n",
            "Read edges for target<id_19> from edgelist: ./data/relation_id_19_edgelist.csv\n",
            "Read edges for target<id_20> from edgelist: ./data/relation_id_20_edgelist.csv\n",
            "Read edges for target<id_21> from edgelist: ./data/relation_id_21_edgelist.csv\n",
            "Read edges for target<id_22> from edgelist: ./data/relation_id_22_edgelist.csv\n",
            "Read edges for target<id_23> from edgelist: ./data/relation_id_23_edgelist.csv\n",
            "Read edges for target<id_24> from edgelist: ./data/relation_id_24_edgelist.csv\n",
            "Read edges for target<id_25> from edgelist: ./data/relation_id_25_edgelist.csv\n",
            "Read edges for target<id_26> from edgelist: ./data/relation_id_26_edgelist.csv\n",
            "Read edges for target<id_27> from edgelist: ./data/relation_id_27_edgelist.csv\n",
            "Read edges for target<id_28> from edgelist: ./data/relation_id_28_edgelist.csv\n",
            "Read edges for target<id_29> from edgelist: ./data/relation_id_29_edgelist.csv\n",
            "Read edges for target<id_30> from edgelist: ./data/relation_id_30_edgelist.csv\n",
            "Read edges for target<id_31> from edgelist: ./data/relation_id_31_edgelist.csv\n",
            "Read edges for target<id_32> from edgelist: ./data/relation_id_32_edgelist.csv\n",
            "Read edges for target<id_33> from edgelist: ./data/relation_id_33_edgelist.csv\n",
            "Read edges for target<id_34> from edgelist: ./data/relation_id_34_edgelist.csv\n",
            "Read edges for target<id_35> from edgelist: ./data/relation_id_35_edgelist.csv\n",
            "Read edges for target<id_36> from edgelist: ./data/relation_id_36_edgelist.csv\n",
            "Read edges for target<id_37> from edgelist: ./data/relation_id_37_edgelist.csv\n",
            "Read edges for target<id_38> from edgelist: ./data/relation_id_38_edgelist.csv\n",
            "Read edges for target<DeviceType> from edgelist: ./data/relation_DeviceType_edgelist.csv\n",
            "Read edges for target<DeviceInfo> from edgelist: ./data/relation_DeviceInfo_edgelist.csv\n",
            "Read in features for target nodes\n",
            "Constructed heterograph with the following metagraph structure: Node types ['DeviceInfo', 'DeviceType', 'P_emaildomain', 'ProductCD', 'R_emaildomain', 'addr1', 'addr2', 'card1', 'card2', 'card3', 'card4', 'card5', 'card6', 'id_01', 'id_02', 'id_03', 'id_04', 'id_05', 'id_06', 'id_07', 'id_08', 'id_09', 'id_10', 'id_11', 'id_12', 'id_13', 'id_14', 'id_15', 'id_16', 'id_17', 'id_18', 'id_19', 'id_20', 'id_21', 'id_22', 'id_23', 'id_24', 'id_25', 'id_26', 'id_27', 'id_28', 'id_29', 'id_30', 'id_31', 'id_32', 'id_33', 'id_34', 'id_35', 'id_36', 'id_37', 'id_38', 'target'], Edge types[('DeviceInfo', 'DeviceInfo<>target', 'target'), ('DeviceType', 'DeviceType<>target', 'target'), ('P_emaildomain', 'P_emaildomain<>target', 'target'), ('ProductCD', 'ProductCD<>target', 'target'), ('R_emaildomain', 'R_emaildomain<>target', 'target'), ('addr1', 'addr1<>target', 'target'), ('addr2', 'addr2<>target', 'target'), ('card1', 'card1<>target', 'target'), ('card2', 'card2<>target', 'target'), ('card3', 'card3<>target', 'target'), ('card4', 'card4<>target', 'target'), ('card5', 'card5<>target', 'target'), ('card6', 'card6<>target', 'target'), ('id_01', 'id_01<>target', 'target'), ('id_02', 'id_02<>target', 'target'), ('id_03', 'id_03<>target', 'target'), ('id_04', 'id_04<>target', 'target'), ('id_05', 'id_05<>target', 'target'), ('id_06', 'id_06<>target', 'target'), ('id_07', 'id_07<>target', 'target'), ('id_08', 'id_08<>target', 'target'), ('id_09', 'id_09<>target', 'target'), ('id_10', 'id_10<>target', 'target'), ('id_11', 'id_11<>target', 'target'), ('id_12', 'id_12<>target', 'target'), ('id_13', 'id_13<>target', 'target'), ('id_14', 'id_14<>target', 'target'), ('id_15', 'id_15<>target', 'target'), ('id_16', 'id_16<>target', 'target'), ('id_17', 'id_17<>target', 'target'), ('id_18', 'id_18<>target', 'target'), ('id_19', 'id_19<>target', 'target'), ('id_20', 'id_20<>target', 'target'), ('id_21', 'id_21<>target', 'target'), ('id_22', 'id_22<>target', 'target'), ('id_23', 'id_23<>target', 'target'), ('id_24', 'id_24<>target', 'target'), ('id_25', 'id_25<>target', 'target'), ('id_26', 'id_26<>target', 'target'), ('id_27', 'id_27<>target', 'target'), ('id_28', 'id_28<>target', 'target'), ('id_29', 'id_29<>target', 'target'), ('id_30', 'id_30<>target', 'target'), ('id_31', 'id_31<>target', 'target'), ('id_32', 'id_32<>target', 'target'), ('id_33', 'id_33<>target', 'target'), ('id_34', 'id_34<>target', 'target'), ('id_35', 'id_35<>target', 'target'), ('id_36', 'id_36<>target', 'target'), ('id_37', 'id_37<>target', 'target'), ('id_38', 'id_38<>target', 'target'), ('target', 'self_relation', 'target'), ('target', 'target<>DeviceInfo', 'DeviceInfo'), ('target', 'target<>DeviceType', 'DeviceType'), ('target', 'target<>P_emaildomain', 'P_emaildomain'), ('target', 'target<>ProductCD', 'ProductCD'), ('target', 'target<>R_emaildomain', 'R_emaildomain'), ('target', 'target<>addr1', 'addr1'), ('target', 'target<>addr2', 'addr2'), ('target', 'target<>card1', 'card1'), ('target', 'target<>card2', 'card2'), ('target', 'target<>card3', 'card3'), ('target', 'target<>card4', 'card4'), ('target', 'target<>card5', 'card5'), ('target', 'target<>card6', 'card6'), ('target', 'target<>id_01', 'id_01'), ('target', 'target<>id_02', 'id_02'), ('target', 'target<>id_03', 'id_03'), ('target', 'target<>id_04', 'id_04'), ('target', 'target<>id_05', 'id_05'), ('target', 'target<>id_06', 'id_06'), ('target', 'target<>id_07', 'id_07'), ('target', 'target<>id_08', 'id_08'), ('target', 'target<>id_09', 'id_09'), ('target', 'target<>id_10', 'id_10'), ('target', 'target<>id_11', 'id_11'), ('target', 'target<>id_12', 'id_12'), ('target', 'target<>id_13', 'id_13'), ('target', 'target<>id_14', 'id_14'), ('target', 'target<>id_15', 'id_15'), ('target', 'target<>id_16', 'id_16'), ('target', 'target<>id_17', 'id_17'), ('target', 'target<>id_18', 'id_18'), ('target', 'target<>id_19', 'id_19'), ('target', 'target<>id_20', 'id_20'), ('target', 'target<>id_21', 'id_21'), ('target', 'target<>id_22', 'id_22'), ('target', 'target<>id_23', 'id_23'), ('target', 'target<>id_24', 'id_24'), ('target', 'target<>id_25', 'id_25'), ('target', 'target<>id_26', 'id_26'), ('target', 'target<>id_27', 'id_27'), ('target', 'target<>id_28', 'id_28'), ('target', 'target<>id_29', 'id_29'), ('target', 'target<>id_30', 'id_30'), ('target', 'target<>id_31', 'id_31'), ('target', 'target<>id_32', 'id_32'), ('target', 'target<>id_33', 'id_33'), ('target', 'target<>id_34', 'id_34'), ('target', 'target<>id_35', 'id_35'), ('target', 'target<>id_36', 'id_36'), ('target', 'target<>id_37', 'id_37'), ('target', 'target<>id_38', 'id_38')]\n",
            "Number of nodes of type target : 59054\n",
            "feature mean shape:torch.Size([390]), std shape:torch.Size([390])\n",
            "Getting labels\n",
            "Got labels\n",
            "----Data statistics------'\n",
            "                #Nodes: 82464\n",
            "                #Edges: 1943174\n",
            "                #Features Shape: torch.Size([59054, 390])\n",
            "                #Labeled Test samples: 11811.0\n",
            "Using device: cpu\n",
            "Initializing Model\n",
            "Initialized Model\n",
            "Starting Model training\n",
            "Epoch 00000, Time(s) 7.1899, Loss 0.5603, F1 0.0000 \n",
            "Epoch 00001, Time(s) 6.8337, Loss 4.3395, F1 0.0000 \n",
            "Epoch 00002, Time(s) 6.5061, Loss 1.7746, F1 0.1844 \n",
            "Epoch 00003, Time(s) 6.2151, Loss 0.8745, F1 0.2143 \n",
            "Epoch 00004, Time(s) 6.0202, Loss 0.3708, F1 0.0076 \n",
            "Epoch 00005, Time(s) 5.7528, Loss 0.4758, F1 0.0010 \n",
            "Epoch 00006, Time(s) 5.7214, Loss 0.5537, F1 0.0171 \n",
            "Epoch 00007, Time(s) 5.5858, Loss 0.4521, F1 0.1145 \n",
            "Epoch 00008, Time(s) 5.5706, Loss 0.2721, F1 0.2425 \n",
            "Epoch 00009, Time(s) 5.4507, Loss 0.3026, F1 0.2686 \n",
            "F1: 0.3279, Precision: 0.3415, Recall: 0.3153, Acc: 0.9514, ROC: 0.8252, PR: 0.2761, AP: 0.2761\n",
            "Metrics\n",
            "Confusion Matrix:\n",
            "                                [[11097   270]\n",
            " [  304   140]]\n",
            "                                f1: 0.3279, precision: 0.3415, recall: 0.3153, acc: 0.9514, roc: 0.8252, pr: 0.2761, ap: 0.2761\n",
            "                             \n",
            "Finished Model training\n",
            "Saving model\n",
            "Model and metadata saved\n"
          ]
        }
      ]
    },
    {
      "cell_type": "code",
      "source": [
        "#Train_improve\n",
        "!python train.py \\\n",
        "  --n-epochs 10 \\\n",
        "  --n-hidden 64 \\\n",
        "  --embedding-size 64 \\\n",
        "  --n-layers 2 \\\n",
        "  --weight_decay 0.0001 \\\n",
        "  --threshold 0.3 \\\n",
        "  --lr 0.0002 \\\n",
        "  --compute_metrics True\n",
        "  #F1: 0.3029, Precision: 0.2996, Recall: 0.3063, Acc: 0.9470, ROC: 0.8043, PR: 0.2636, AP: 0.2636"
      ],
      "metadata": {
        "collapsed": true,
        "id": "Vu8ibxLpDbIH"
      },
      "execution_count": null,
      "outputs": []
    },
    {
      "cell_type": "code",
      "source": [
        "!python tuner.py"
      ],
      "metadata": {
        "id": "GRJ0qD237fIw",
        "outputId": "bdbdd739-aa07-40e3-dd9c-979a54930f59",
        "colab": {
          "base_uri": "https://localhost:8080/"
        }
      },
      "execution_count": 5,
      "outputs": [
        {
          "output_type": "stream",
          "name": "stdout",
          "text": [
            "\u001b[32m[I 2025-07-25 10:02:41,192]\u001b[0m A new study created in memory with name: no-name-dc6f005a-18ed-49e3-992a-ca79a6a3b42e\u001b[0m\n",
            "/content/drive/MyDrive/graph-fraud-detection/tuner.py:45: FutureWarning: suggest_loguniform has been deprecated in v3.0.0. This feature will be removed in v6.0.0. See https://github.com/optuna/optuna/releases/tag/v3.0.0. Use suggest_float(..., log=True) instead.\n",
            "  lr = trial.suggest_loguniform('lr', 1e-4, 1e-2)\n",
            "/content/drive/MyDrive/graph-fraud-detection/tuner.py:46: FutureWarning: suggest_loguniform has been deprecated in v3.0.0. This feature will be removed in v6.0.0. See https://github.com/optuna/optuna/releases/tag/v3.0.0. Use suggest_float(..., log=True) instead.\n",
            "  weight_decay = trial.suggest_loguniform('weight_decay', 1e-5, 1e-2)\n",
            "\u001b[32m[I 2025-07-25 10:04:49,771]\u001b[0m Trial 0 finished with value: 0.009 and parameters: {'n_hidden': 16, 'embedding_size': 256, 'n_layers': 3, 'weight': 1.4590884169329204, 'threshold': 0.26157130497317865, 'dropout': 0.23542700855778056, 'lr': 0.007596809122479161, 'weight_decay': 0.009512906735962248}. Best is trial 0 with value: 0.009.\u001b[0m\n",
            "/content/drive/MyDrive/graph-fraud-detection/tuner.py:45: FutureWarning: suggest_loguniform has been deprecated in v3.0.0. This feature will be removed in v6.0.0. See https://github.com/optuna/optuna/releases/tag/v3.0.0. Use suggest_float(..., log=True) instead.\n",
            "  lr = trial.suggest_loguniform('lr', 1e-4, 1e-2)\n",
            "/content/drive/MyDrive/graph-fraud-detection/tuner.py:46: FutureWarning: suggest_loguniform has been deprecated in v3.0.0. This feature will be removed in v6.0.0. See https://github.com/optuna/optuna/releases/tag/v3.0.0. Use suggest_float(..., log=True) instead.\n",
            "  weight_decay = trial.suggest_loguniform('weight_decay', 1e-5, 1e-2)\n",
            "\u001b[32m[I 2025-07-25 10:07:32,421]\u001b[0m Trial 1 finished with value: 0.0523 and parameters: {'n_hidden': 48, 'embedding_size': 180, 'n_layers': 2, 'weight': 1.7039302555970415, 'threshold': 0.23988927300775736, 'dropout': 0.1786893342408068, 'lr': 0.009469668491673347, 'weight_decay': 0.006567320951514903}. Best is trial 1 with value: 0.0523.\u001b[0m\n",
            "/content/drive/MyDrive/graph-fraud-detection/tuner.py:45: FutureWarning: suggest_loguniform has been deprecated in v3.0.0. This feature will be removed in v6.0.0. See https://github.com/optuna/optuna/releases/tag/v3.0.0. Use suggest_float(..., log=True) instead.\n",
            "  lr = trial.suggest_loguniform('lr', 1e-4, 1e-2)\n",
            "/content/drive/MyDrive/graph-fraud-detection/tuner.py:46: FutureWarning: suggest_loguniform has been deprecated in v3.0.0. This feature will be removed in v6.0.0. See https://github.com/optuna/optuna/releases/tag/v3.0.0. Use suggest_float(..., log=True) instead.\n",
            "  weight_decay = trial.suggest_loguniform('weight_decay', 1e-5, 1e-2)\n",
            "\u001b[32m[I 2025-07-25 10:09:59,663]\u001b[0m Trial 2 finished with value: 0.0 and parameters: {'n_hidden': 32, 'embedding_size': 128, 'n_layers': 3, 'weight': 1.4066989930200096, 'threshold': 0.5926351777522894, 'dropout': 0.24169898261701306, 'lr': 0.005918095321785188, 'weight_decay': 0.0008898788607463905}. Best is trial 1 with value: 0.0523.\u001b[0m\n",
            "/content/drive/MyDrive/graph-fraud-detection/tuner.py:45: FutureWarning: suggest_loguniform has been deprecated in v3.0.0. This feature will be removed in v6.0.0. See https://github.com/optuna/optuna/releases/tag/v3.0.0. Use suggest_float(..., log=True) instead.\n",
            "  lr = trial.suggest_loguniform('lr', 1e-4, 1e-2)\n",
            "/content/drive/MyDrive/graph-fraud-detection/tuner.py:46: FutureWarning: suggest_loguniform has been deprecated in v3.0.0. This feature will be removed in v6.0.0. See https://github.com/optuna/optuna/releases/tag/v3.0.0. Use suggest_float(..., log=True) instead.\n",
            "  weight_decay = trial.suggest_loguniform('weight_decay', 1e-5, 1e-2)\n",
            "\u001b[32m[I 2025-07-25 10:12:19,093]\u001b[0m Trial 3 finished with value: 0.0441 and parameters: {'n_hidden': 32, 'embedding_size': 256, 'n_layers': 3, 'weight': 1.6864997668700474, 'threshold': 0.41694722738924694, 'dropout': 0.25341993414853503, 'lr': 0.004508208442306889, 'weight_decay': 0.004480035298622435}. Best is trial 1 with value: 0.0523.\u001b[0m\n",
            "/content/drive/MyDrive/graph-fraud-detection/tuner.py:45: FutureWarning: suggest_loguniform has been deprecated in v3.0.0. This feature will be removed in v6.0.0. See https://github.com/optuna/optuna/releases/tag/v3.0.0. Use suggest_float(..., log=True) instead.\n",
            "  lr = trial.suggest_loguniform('lr', 1e-4, 1e-2)\n",
            "/content/drive/MyDrive/graph-fraud-detection/tuner.py:46: FutureWarning: suggest_loguniform has been deprecated in v3.0.0. This feature will be removed in v6.0.0. See https://github.com/optuna/optuna/releases/tag/v3.0.0. Use suggest_float(..., log=True) instead.\n",
            "  weight_decay = trial.suggest_loguniform('weight_decay', 1e-5, 1e-2)\n",
            "\u001b[32m[I 2025-07-25 10:14:37,096]\u001b[0m Trial 4 finished with value: 0.0089 and parameters: {'n_hidden': 32, 'embedding_size': 128, 'n_layers': 3, 'weight': 1.6488147785434557, 'threshold': 0.8484466710579267, 'dropout': 0.2050409764237102, 'lr': 0.0013140970479972275, 'weight_decay': 0.0008099512587863946}. Best is trial 1 with value: 0.0523.\u001b[0m\n",
            "/content/drive/MyDrive/graph-fraud-detection/tuner.py:45: FutureWarning: suggest_loguniform has been deprecated in v3.0.0. This feature will be removed in v6.0.0. See https://github.com/optuna/optuna/releases/tag/v3.0.0. Use suggest_float(..., log=True) instead.\n",
            "  lr = trial.suggest_loguniform('lr', 1e-4, 1e-2)\n",
            "/content/drive/MyDrive/graph-fraud-detection/tuner.py:46: FutureWarning: suggest_loguniform has been deprecated in v3.0.0. This feature will be removed in v6.0.0. See https://github.com/optuna/optuna/releases/tag/v3.0.0. Use suggest_float(..., log=True) instead.\n",
            "  weight_decay = trial.suggest_loguniform('weight_decay', 1e-5, 1e-2)\n",
            "\u001b[32m[I 2025-07-25 10:17:07,438]\u001b[0m Trial 5 finished with value: 0.0482 and parameters: {'n_hidden': 48, 'embedding_size': 180, 'n_layers': 2, 'weight': 1.3331288144727145, 'threshold': 0.07745117565888482, 'dropout': 0.22582954110662803, 'lr': 0.0013501818481788813, 'weight_decay': 0.0013101989570255177}. Best is trial 1 with value: 0.0523.\u001b[0m\n",
            "/content/drive/MyDrive/graph-fraud-detection/tuner.py:45: FutureWarning: suggest_loguniform has been deprecated in v3.0.0. This feature will be removed in v6.0.0. See https://github.com/optuna/optuna/releases/tag/v3.0.0. Use suggest_float(..., log=True) instead.\n",
            "  lr = trial.suggest_loguniform('lr', 1e-4, 1e-2)\n",
            "/content/drive/MyDrive/graph-fraud-detection/tuner.py:46: FutureWarning: suggest_loguniform has been deprecated in v3.0.0. This feature will be removed in v6.0.0. See https://github.com/optuna/optuna/releases/tag/v3.0.0. Use suggest_float(..., log=True) instead.\n",
            "  weight_decay = trial.suggest_loguniform('weight_decay', 1e-5, 1e-2)\n",
            "\u001b[32m[I 2025-07-25 10:20:39,276]\u001b[0m Trial 6 finished with value: 0.0 and parameters: {'n_hidden': 48, 'embedding_size': 256, 'n_layers': 3, 'weight': 2.3502088437835917, 'threshold': 0.8891691180384794, 'dropout': 0.25375746452069897, 'lr': 0.00023472093582501929, 'weight_decay': 8.393572311520792e-05}. Best is trial 1 with value: 0.0523.\u001b[0m\n",
            "/content/drive/MyDrive/graph-fraud-detection/tuner.py:45: FutureWarning: suggest_loguniform has been deprecated in v3.0.0. This feature will be removed in v6.0.0. See https://github.com/optuna/optuna/releases/tag/v3.0.0. Use suggest_float(..., log=True) instead.\n",
            "  lr = trial.suggest_loguniform('lr', 1e-4, 1e-2)\n",
            "/content/drive/MyDrive/graph-fraud-detection/tuner.py:46: FutureWarning: suggest_loguniform has been deprecated in v3.0.0. This feature will be removed in v6.0.0. See https://github.com/optuna/optuna/releases/tag/v3.0.0. Use suggest_float(..., log=True) instead.\n",
            "  weight_decay = trial.suggest_loguniform('weight_decay', 1e-5, 1e-2)\n",
            "\u001b[32m[I 2025-07-25 10:23:17,384]\u001b[0m Trial 7 finished with value: 0.0 and parameters: {'n_hidden': 32, 'embedding_size': 128, 'n_layers': 3, 'weight': 1.961043968901833, 'threshold': 0.15735828519532385, 'dropout': 0.2971161622570647, 'lr': 0.00015218405756980348, 'weight_decay': 2.5088638846453678e-05}. Best is trial 1 with value: 0.0523.\u001b[0m\n",
            "/content/drive/MyDrive/graph-fraud-detection/tuner.py:45: FutureWarning: suggest_loguniform has been deprecated in v3.0.0. This feature will be removed in v6.0.0. See https://github.com/optuna/optuna/releases/tag/v3.0.0. Use suggest_float(..., log=True) instead.\n",
            "  lr = trial.suggest_loguniform('lr', 1e-4, 1e-2)\n",
            "/content/drive/MyDrive/graph-fraud-detection/tuner.py:46: FutureWarning: suggest_loguniform has been deprecated in v3.0.0. This feature will be removed in v6.0.0. See https://github.com/optuna/optuna/releases/tag/v3.0.0. Use suggest_float(..., log=True) instead.\n",
            "  weight_decay = trial.suggest_loguniform('weight_decay', 1e-5, 1e-2)\n",
            "\u001b[32m[I 2025-07-25 10:24:39,684]\u001b[0m Trial 8 finished with value: 0.0519 and parameters: {'n_hidden': 16, 'embedding_size': 256, 'n_layers': 2, 'weight': 1.5617312965173247, 'threshold': 0.5760708001369648, 'dropout': 0.10490938793600289, 'lr': 0.0015452098412453274, 'weight_decay': 0.004892698547967245}. Best is trial 1 with value: 0.0523.\u001b[0m\n",
            "/content/drive/MyDrive/graph-fraud-detection/tuner.py:45: FutureWarning: suggest_loguniform has been deprecated in v3.0.0. This feature will be removed in v6.0.0. See https://github.com/optuna/optuna/releases/tag/v3.0.0. Use suggest_float(..., log=True) instead.\n",
            "  lr = trial.suggest_loguniform('lr', 1e-4, 1e-2)\n",
            "/content/drive/MyDrive/graph-fraud-detection/tuner.py:46: FutureWarning: suggest_loguniform has been deprecated in v3.0.0. This feature will be removed in v6.0.0. See https://github.com/optuna/optuna/releases/tag/v3.0.0. Use suggest_float(..., log=True) instead.\n",
            "  weight_decay = trial.suggest_loguniform('weight_decay', 1e-5, 1e-2)\n",
            "\u001b[32m[I 2025-07-25 10:27:15,779]\u001b[0m Trial 9 finished with value: 0.1155 and parameters: {'n_hidden': 48, 'embedding_size': 128, 'n_layers': 2, 'weight': 1.354152911835202, 'threshold': 0.5444584556764899, 'dropout': 0.22204695459151313, 'lr': 0.000543960242168004, 'weight_decay': 0.0019143938706782924}. Best is trial 9 with value: 0.1155.\u001b[0m\n",
            "/content/drive/MyDrive/graph-fraud-detection/tuner.py:45: FutureWarning: suggest_loguniform has been deprecated in v3.0.0. This feature will be removed in v6.0.0. See https://github.com/optuna/optuna/releases/tag/v3.0.0. Use suggest_float(..., log=True) instead.\n",
            "  lr = trial.suggest_loguniform('lr', 1e-4, 1e-2)\n",
            "/content/drive/MyDrive/graph-fraud-detection/tuner.py:46: FutureWarning: suggest_loguniform has been deprecated in v3.0.0. This feature will be removed in v6.0.0. See https://github.com/optuna/optuna/releases/tag/v3.0.0. Use suggest_float(..., log=True) instead.\n",
            "  weight_decay = trial.suggest_loguniform('weight_decay', 1e-5, 1e-2)\n",
            "\u001b[32m[I 2025-07-25 10:29:53,771]\u001b[0m Trial 10 finished with value: 0.0805 and parameters: {'n_hidden': 48, 'embedding_size': 128, 'n_layers': 2, 'weight': 1.2217546969396098, 'threshold': 0.7276382866026032, 'dropout': 0.1502125369045267, 'lr': 0.00041114515871579584, 'weight_decay': 0.0001621611465356869}. Best is trial 9 with value: 0.1155.\u001b[0m\n",
            "/content/drive/MyDrive/graph-fraud-detection/tuner.py:45: FutureWarning: suggest_loguniform has been deprecated in v3.0.0. This feature will be removed in v6.0.0. See https://github.com/optuna/optuna/releases/tag/v3.0.0. Use suggest_float(..., log=True) instead.\n",
            "  lr = trial.suggest_loguniform('lr', 1e-4, 1e-2)\n",
            "/content/drive/MyDrive/graph-fraud-detection/tuner.py:46: FutureWarning: suggest_loguniform has been deprecated in v3.0.0. This feature will be removed in v6.0.0. See https://github.com/optuna/optuna/releases/tag/v3.0.0. Use suggest_float(..., log=True) instead.\n",
            "  weight_decay = trial.suggest_loguniform('weight_decay', 1e-5, 1e-2)\n",
            "\u001b[32m[I 2025-07-25 10:32:36,971]\u001b[0m Trial 11 finished with value: 0.0606 and parameters: {'n_hidden': 48, 'embedding_size': 128, 'n_layers': 2, 'weight': 1.2723088795287283, 'threshold': 0.7640939947865119, 'dropout': 0.15072261893141373, 'lr': 0.0003780001578207658, 'weight_decay': 0.00016412862028129254}. Best is trial 9 with value: 0.1155.\u001b[0m\n",
            "/content/drive/MyDrive/graph-fraud-detection/tuner.py:45: FutureWarning: suggest_loguniform has been deprecated in v3.0.0. This feature will be removed in v6.0.0. See https://github.com/optuna/optuna/releases/tag/v3.0.0. Use suggest_float(..., log=True) instead.\n",
            "  lr = trial.suggest_loguniform('lr', 1e-4, 1e-2)\n",
            "/content/drive/MyDrive/graph-fraud-detection/tuner.py:46: FutureWarning: suggest_loguniform has been deprecated in v3.0.0. This feature will be removed in v6.0.0. See https://github.com/optuna/optuna/releases/tag/v3.0.0. Use suggest_float(..., log=True) instead.\n",
            "  weight_decay = trial.suggest_loguniform('weight_decay', 1e-5, 1e-2)\n",
            "\u001b[32m[I 2025-07-25 10:35:19,599]\u001b[0m Trial 12 finished with value: 0.096 and parameters: {'n_hidden': 48, 'embedding_size': 128, 'n_layers': 2, 'weight': 1.2047690906026074, 'threshold': 0.7091826449364843, 'dropout': 0.14521250608435143, 'lr': 0.000518139457006512, 'weight_decay': 5.4220527004031925e-05}. Best is trial 9 with value: 0.1155.\u001b[0m\n",
            "/content/drive/MyDrive/graph-fraud-detection/tuner.py:45: FutureWarning: suggest_loguniform has been deprecated in v3.0.0. This feature will be removed in v6.0.0. See https://github.com/optuna/optuna/releases/tag/v3.0.0. Use suggest_float(..., log=True) instead.\n",
            "  lr = trial.suggest_loguniform('lr', 1e-4, 1e-2)\n",
            "/content/drive/MyDrive/graph-fraud-detection/tuner.py:46: FutureWarning: suggest_loguniform has been deprecated in v3.0.0. This feature will be removed in v6.0.0. See https://github.com/optuna/optuna/releases/tag/v3.0.0. Use suggest_float(..., log=True) instead.\n",
            "  weight_decay = trial.suggest_loguniform('weight_decay', 1e-5, 1e-2)\n",
            "\u001b[32m[I 2025-07-25 10:38:04,955]\u001b[0m Trial 13 finished with value: 0.089 and parameters: {'n_hidden': 48, 'embedding_size': 128, 'n_layers': 2, 'weight': 1.9888598032117755, 'threshold': 0.4239300282860371, 'dropout': 0.10466900353121461, 'lr': 0.0006583672768911517, 'weight_decay': 1.933696010508651e-05}. Best is trial 9 with value: 0.1155.\u001b[0m\n",
            "/content/drive/MyDrive/graph-fraud-detection/tuner.py:45: FutureWarning: suggest_loguniform has been deprecated in v3.0.0. This feature will be removed in v6.0.0. See https://github.com/optuna/optuna/releases/tag/v3.0.0. Use suggest_float(..., log=True) instead.\n",
            "  lr = trial.suggest_loguniform('lr', 1e-4, 1e-2)\n",
            "/content/drive/MyDrive/graph-fraud-detection/tuner.py:46: FutureWarning: suggest_loguniform has been deprecated in v3.0.0. This feature will be removed in v6.0.0. See https://github.com/optuna/optuna/releases/tag/v3.0.0. Use suggest_float(..., log=True) instead.\n",
            "  weight_decay = trial.suggest_loguniform('weight_decay', 1e-5, 1e-2)\n",
            "\u001b[32m[I 2025-07-25 10:40:43,759]\u001b[0m Trial 14 finished with value: 0.0177 and parameters: {'n_hidden': 48, 'embedding_size': 128, 'n_layers': 2, 'weight': 2.236155463351748, 'threshold': 0.6365426950171144, 'dropout': 0.16186776759578347, 'lr': 0.000103282157778119, 'weight_decay': 6.422427679376333e-05}. Best is trial 9 with value: 0.1155.\u001b[0m\n",
            "/content/drive/MyDrive/graph-fraud-detection/tuner.py:45: FutureWarning: suggest_loguniform has been deprecated in v3.0.0. This feature will be removed in v6.0.0. See https://github.com/optuna/optuna/releases/tag/v3.0.0. Use suggest_float(..., log=True) instead.\n",
            "  lr = trial.suggest_loguniform('lr', 1e-4, 1e-2)\n",
            "/content/drive/MyDrive/graph-fraud-detection/tuner.py:46: FutureWarning: suggest_loguniform has been deprecated in v3.0.0. This feature will be removed in v6.0.0. See https://github.com/optuna/optuna/releases/tag/v3.0.0. Use suggest_float(..., log=True) instead.\n",
            "  weight_decay = trial.suggest_loguniform('weight_decay', 1e-5, 1e-2)\n",
            "\u001b[33m[W 2025-07-25 10:42:43,033]\u001b[0m Trial 15 failed with parameters: {'n_hidden': 48, 'embedding_size': 128, 'n_layers': 2, 'weight': 1.2022736288019105, 'threshold': 0.44452952333003853, 'dropout': 0.18878477655734324, 'lr': 0.0026206291203792844, 'weight_decay': 0.0019113439253114202} because of the following error: KeyboardInterrupt().\u001b[0m\n",
            "Traceback (most recent call last):\n",
            "  File \"/usr/lib/python3.11/subprocess.py\", line 1209, in communicate\n",
            "    stdout, stderr = self._communicate(input, endtime, timeout)\n",
            "                     ^^^^^^^^^^^^^^^^^^^^^^^^^^^^^^^^^^^^^^^^^^\n",
            "  File \"/usr/lib/python3.11/subprocess.py\", line 2115, in _communicate\n",
            "    ready = selector.select(timeout)\n",
            "            ^^^^^^^^^^^^^^^^^^^^^^^^\n",
            "  File \"/usr/lib/python3.11/selectors.py\", line 415, in select\n",
            "    fd_event_list = self._selector.poll(timeout)\n",
            "                    ^^^^^^^^^^^^^^^^^^^^^^^^^^^^\n",
            "KeyboardInterrupt\n",
            "\n",
            "During handling of the above exception, another exception occurred:\n",
            "\n",
            "Traceback (most recent call last):\n",
            "  File \"/usr/local/lib/python3.11/dist-packages/optuna/study/_optimize.py\", line 201, in _run_trial\n",
            "    value_or_values = func(trial)\n",
            "                      ^^^^^^^^^^^\n",
            "  File \"/content/drive/MyDrive/graph-fraud-detection/tuner.py\", line 48, in objective\n",
            "    f1 = run_model_return_f1(n_hidden, embedding_size, n_layers, weight, threshold, dropout, lr, weight_decay)\n",
            "         ^^^^^^^^^^^^^^^^^^^^^^^^^^^^^^^^^^^^^^^^^^^^^^^^^^^^^^^^^^^^^^^^^^^^^^^^^^^^^^^^^^^^^^^^^^^^^^^^^^^^^\n",
            "  File \"/content/drive/MyDrive/graph-fraud-detection/tuner.py\", line 26, in run_model_return_f1\n",
            "    result = subprocess.run(command, stdout=subprocess.PIPE, stderr=subprocess.PIPE, text=True)\n",
            "             ^^^^^^^^^^^^^^^^^^^^^^^^^^^^^^^^^^^^^^^^^^^^^^^^^^^^^^^^^^^^^^^^^^^^^^^^^^^^^^^^^^\n",
            "  File \"/usr/lib/python3.11/subprocess.py\", line 550, in run\n",
            "    stdout, stderr = process.communicate(input, timeout=timeout)\n",
            "                     ^^^^^^^^^^^^^^^^^^^^^^^^^^^^^^^^^^^^^^^^^^^\n",
            "  File \"/usr/lib/python3.11/subprocess.py\", line 1220, in communicate\n",
            "    self._wait(timeout=sigint_timeout)\n",
            "  File \"/usr/lib/python3.11/subprocess.py\", line 2047, in _wait\n",
            "    time.sleep(delay)\n",
            "KeyboardInterrupt\n",
            "\u001b[33m[W 2025-07-25 10:42:43,052]\u001b[0m Trial 15 failed with value None.\u001b[0m\n",
            "Traceback (most recent call last):\n",
            "  File \"/usr/lib/python3.11/subprocess.py\", line 1209, in communicate\n",
            "    stdout, stderr = self._communicate(input, endtime, timeout)\n",
            "                     ^^^^^^^^^^^^^^^^^^^^^^^^^^^^^^^^^^^^^^^^^^\n",
            "  File \"/usr/lib/python3.11/subprocess.py\", line 2115, in _communicate\n",
            "    ready = selector.select(timeout)\n",
            "            ^^^^^^^^^^^^^^^^^^^^^^^^\n",
            "  File \"/usr/lib/python3.11/selectors.py\", line 415, in select\n",
            "    fd_event_list = self._selector.poll(timeout)\n",
            "                    ^^^^^^^^^^^^^^^^^^^^^^^^^^^^\n",
            "KeyboardInterrupt\n",
            "\n",
            "During handling of the above exception, another exception occurred:\n",
            "\n",
            "Traceback (most recent call last):\n",
            "  File \"/content/drive/MyDrive/graph-fraud-detection/tuner.py\", line 53, in <module>\n",
            "    study.optimize(objective, n_trials=5)\n",
            "    ^^^^^^^^^^^^^^^^^^^^^^^^^^^^^^^^^^^^^^\n",
            "  File \"/usr/local/lib/python3.11/dist-packages/optuna/study/study.py\", line 489, in optimize\n",
            "    _optimize(\n",
            "  File \"/usr/local/lib/python3.11/dist-packages/optuna/study/_optimize.py\", line 64, in _optimize\n",
            "    _optimize_sequential(\n",
            "  File \"/usr/local/lib/python3.11/dist-packages/optuna/study/_optimize.py\", line 161, in _optimize_sequential\n",
            "    frozen_trial = _run_trial(study, func, catch)\n",
            "                   ^^^^^^^^^^^^^^^^^^^^^^^^^^^^^^\n",
            "  File \"/usr/local/lib/python3.11/dist-packages/optuna/study/_optimize.py\", line 253, in _run_trial\n",
            "    raise func_err\n",
            "  File \"/usr/local/lib/python3.11/dist-packages/optuna/study/_optimize.py\", line 201, in _run_trial\n",
            "    value_or_values = func(trial)\n",
            "                      ^^^^^^^^^^^\n",
            "  File \"/content/drive/MyDrive/graph-fraud-detection/tuner.py\", line 48, in objective\n",
            "    f1 = run_model_return_f1(n_hidden, embedding_size, n_layers, weight, threshold, dropout, lr, weight_decay)\n",
            "         ^^^^^^^^^^^^^^^^^^^^^^^^^^^^^^^^^^^^^^^^^^^^^^^^^^^^^^^^^^^^^^^^^^^^^^^^^^^^^^^^^^^^^^^^^^^^^^^^^^^^^\n",
            "  File \"/content/drive/MyDrive/graph-fraud-detection/tuner.py\", line 26, in run_model_return_f1\n",
            "    result = subprocess.run(command, stdout=subprocess.PIPE, stderr=subprocess.PIPE, text=True)\n",
            "             ^^^^^^^^^^^^^^^^^^^^^^^^^^^^^^^^^^^^^^^^^^^^^^^^^^^^^^^^^^^^^^^^^^^^^^^^^^^^^^^^^^\n",
            "  File \"/usr/lib/python3.11/subprocess.py\", line 550, in run\n",
            "    stdout, stderr = process.communicate(input, timeout=timeout)\n",
            "                     ^^^^^^^^^^^^^^^^^^^^^^^^^^^^^^^^^^^^^^^^^^^\n",
            "  File \"/usr/lib/python3.11/subprocess.py\", line 1220, in communicate\n",
            "    self._wait(timeout=sigint_timeout)\n",
            "  File \"/usr/lib/python3.11/subprocess.py\", line 2047, in _wait\n",
            "    time.sleep(delay)\n",
            "KeyboardInterrupt\n",
            "^C\n"
          ]
        }
      ]
    },
    {
      "cell_type": "markdown",
      "source": [
        "#End here ..."
      ],
      "metadata": {
        "id": "LV_ZfjLsgVqC"
      }
    },
    {
      "cell_type": "code",
      "source": [
        "1/0 #for break the code."
      ],
      "metadata": {
        "id": "2duCgdpLU_mb"
      },
      "execution_count": null,
      "outputs": []
    },
    {
      "cell_type": "markdown",
      "metadata": {
        "id": "lSmqRg1eo8cT"
      },
      "source": [
        "## Training (Detailed)\n",
        "\n",
        "Besides the approach mentioned before, you can also use this detailed approach."
      ]
    },
    {
      "cell_type": "markdown",
      "metadata": {
        "id": "TZWNPZTPOJSb"
      },
      "source": [
        "### Prepare environment"
      ]
    },
    {
      "cell_type": "code",
      "metadata": {
        "id": "E6TREv-bfXKZ"
      },
      "source": [
        "import os\n",
        "import sys\n",
        "import glob\n",
        "\n",
        "os.environ['DGLBACKEND'] = 'pytorch'\n",
        "\n",
        "import torch as th\n",
        "import dgl\n",
        "import numpy as np\n",
        "\n",
        "from gnn.estimator_fns import *\n",
        "from gnn.graph_utils import *\n",
        "from gnn.data import *\n",
        "from gnn.utils import *\n",
        "from gnn.pytorch_model import *\n",
        "from train import *"
      ],
      "execution_count": null,
      "outputs": []
    },
    {
      "cell_type": "markdown",
      "metadata": {
        "id": "E881gvwobfSz"
      },
      "source": [
        "### Load data\n",
        "\n",
        "Recall the edges we defined before and the csv files we used to save them."
      ]
    },
    {
      "cell_type": "code",
      "metadata": {
        "id": "BmqGrWm-HXdk"
      },
      "source": [
        "file_list = glob.glob('./data/*edgelist.csv')\n",
        "\n",
        "edges = \",\".join(map(lambda x: x.split(\"/\")[-1], [file for file in file_list if \"relation\" in file]))"
      ],
      "execution_count": null,
      "outputs": []
    },
    {
      "cell_type": "markdown",
      "metadata": {
        "id": "cE2--V7AbfS0"
      },
      "source": [
        "To train the graph neural network, we need to define a few hyperparameters that determine properties such as the class of graph neural network models we will be using, the network architecture and the optimizer and optimization parameters.\n",
        "\n",
        "Here we're setting only a few of the hyperparameters, to see all the hyperparameters and their default values, see `gnn/estimator_fns.py`. The parameters set below are:\n",
        "\n",
        "- **nodes** is the name of the file that contains the node_ids of the target nodes and the node features.\n",
        "- **edges** is a regular expression that when expanded lists all the filenames for the edgelists\n",
        "- **labels** is the name of the file tha contains the target node_ids and their labels\n",
        "- **model** specify which graph neural network to use, this should be set to r-gcn\n",
        "\n",
        "The following hyperparameters can be tuned and adjusted to improve model performance\n",
        "\n",
        "- **batch-size** is the number nodes that are used to compute a single forward pass of the GNN\n",
        "- **embedding-size** is the size of the embedding dimension for non target nodes\n",
        "- **n-neighbors** is the number of neighbours to sample for each target node during graph sampling for mini-batch training\n",
        "- **n-layers** is the number of GNN layers in the model\n",
        "- **n-epochs** is the number of training epochs for the model training job\n",
        "- **optimizer** is the optimization algorithm used for gradient based parameter updates\n",
        "- **lr** is the learning rate for parameter updates"
      ]
    },
    {
      "cell_type": "markdown",
      "metadata": {
        "id": "BDQKAwpYo8cW"
      },
      "source": [
        "### Generate graph"
      ]
    },
    {
      "cell_type": "code",
      "metadata": {
        "id": "23aFsML_bfS1"
      },
      "source": [
        "print('numpy version:{} PyTorch version:{} DGL version:{}'.format(np.__version__,\n",
        "                                                                    th.__version__,\n",
        "                                                                    dgl.__version__))\n",
        "\n",
        "args = parse_args()\n",
        "print(args)"
      ],
      "execution_count": null,
      "outputs": []
    },
    {
      "cell_type": "code",
      "metadata": {
        "id": "C4PfzLQKbfS1",
        "collapsed": true
      },
      "source": [
        "args.edges = edges\n",
        "\n",
        "args.edges = get_edgelists('relation*', args.training_dir)\n",
        "\n",
        "g, features, target_id_to_node, id_to_node = construct_graph(args.training_dir,\n",
        "                                                                args.edges,\n",
        "                                                                args.nodes,\n",
        "                                                                args.target_ntype)\n",
        "\n",
        "mean, stdev, features = normalize(th.from_numpy(features))\n",
        "\n",
        "print('feature mean shape:{}, std shape:{}'.format(mean.shape, stdev.shape))"
      ],
      "execution_count": null,
      "outputs": []
    },
    {
      "cell_type": "code",
      "metadata": {
        "id": "8Bw1ceNebfS2"
      },
      "source": [
        "g.nodes['target'].data['features'] = features\n",
        "\n",
        "print(\"Getting labels\")\n",
        "n_nodes = g.number_of_nodes('target')\n",
        "\n",
        "labels, _, test_mask = get_labels(target_id_to_node,\n",
        "                                            n_nodes,\n",
        "                                            args.target_ntype,\n",
        "                                            os.path.join(args.training_dir, args.labels),\n",
        "                                            os.path.join(args.training_dir, args.new_accounts))\n",
        "print(\"Got labels\")\n",
        "\n",
        "labels = th.from_numpy(labels).float()\n",
        "test_mask = th.from_numpy(test_mask).float()\n",
        "\n",
        "n_nodes = th.sum(th.tensor([g.number_of_nodes(n_type) for n_type in g.ntypes]))\n",
        "n_edges = th.sum(th.tensor([g.number_of_edges(e_type) for e_type in g.etypes]))\n",
        "\n",
        "print(\"\"\"----Data statistics------'\n",
        "            #Nodes: {}\n",
        "            #Edges: {}\n",
        "            #Features Shape: {}\n",
        "            #Labeled Test samples: {}\"\"\".format(n_nodes,\n",
        "                                                    n_edges,\n",
        "                                                    features.shape,\n",
        "                                                    test_mask.sum()))"
      ],
      "execution_count": null,
      "outputs": []
    },
    {
      "cell_type": "markdown",
      "metadata": {
        "id": "FjhjypJEo8cX"
      },
      "source": [
        "### Start training\n",
        "\n",
        "The training process and result will be saved in the same folder."
      ]
    },
    {
      "cell_type": "code",
      "metadata": {
        "id": "UETWzSN6bfS3"
      },
      "source": [
        "if args.num_gpus:\n",
        "    cuda = True\n",
        "    device = th.device('cuda:0')\n",
        "else:\n",
        "    cuda = False\n",
        "    device = th.device('cpu')"
      ],
      "execution_count": null,
      "outputs": []
    },
    {
      "cell_type": "code",
      "metadata": {
        "id": "AWQp2MxLHXdo",
        "collapsed": true
      },
      "source": [
        "print(\"Initializing Model\")\n",
        "in_feats = features.shape[1]\n",
        "n_classes = 2\n",
        "\n",
        "ntype_dict = {n_type: g.number_of_nodes(n_type) for n_type in g.ntypes}\n",
        "\n",
        "model = get_model(ntype_dict, g.etypes, vars(args), in_feats, n_classes, device)\n",
        "print(\"Initialized Model\")\n",
        "\n",
        "features = features.to(device)\n",
        "\n",
        "labels = labels.long().to(device)\n",
        "test_mask = test_mask.to(device)\n",
        "# g = g.to(device)\n",
        "\n",
        "loss = th.nn.CrossEntropyLoss()\n",
        "\n",
        "# print(model)\n",
        "optim = th.optim.Adam(model.parameters(), lr=args.lr, weight_decay=args.weight_decay)\n",
        "\n",
        "print(\"Starting Model training\")\n",
        "\n",
        "initial_record()\n",
        "\n",
        "model, class_preds, pred_proba = train_fg(model, optim, loss, features, labels, g, g,\n",
        "                                            test_mask, device, args.n_epochs,\n",
        "                                            args.threshold,  args.compute_metrics)\n",
        "print(\"Finished Model training\")\n",
        "\n",
        "print(\"Saving model\")\n",
        "\n",
        "if not os.path.exists(args.model_dir):\n",
        "    os.makedirs(args.model_dir)\n",
        "\n",
        "save_model(g, model, args.model_dir, id_to_node, mean, stdev)\n",
        "print(\"Model and metadata saved\")"
      ],
      "execution_count": null,
      "outputs": []
    },
    {
      "cell_type": "code",
      "metadata": {
        "id": "-u3-n_xdoZLc"
      },
      "source": [
        "%tb"
      ],
      "execution_count": null,
      "outputs": []
    },
    {
      "cell_type": "code",
      "metadata": {
        "id": "2be32852"
      },
      "source": [
        "!pip install torchdata"
      ],
      "execution_count": null,
      "outputs": []
    },
    {
      "cell_type": "markdown",
      "source": [
        "##JIDAPA\n"
      ],
      "metadata": {
        "id": "_YqzURxYflmd"
      }
    },
    {
      "cell_type": "code",
      "source": [
        "!pip install optuna"
      ],
      "metadata": {
        "id": "QnnH1NR8gFs2"
      },
      "execution_count": null,
      "outputs": []
    },
    {
      "cell_type": "code",
      "source": [
        "from train_origin import train_fg, initial_record\n",
        "from gnn.data import get_features, get_labels, parse_edgelist\n",
        "import dgl\n",
        "import torch as th\n",
        "import optuna\n",
        "import glob\n",
        "import os\n",
        "from collections import defaultdict\n"
      ],
      "metadata": {
        "collapsed": true,
        "id": "wan6Nz8UflJx"
      },
      "execution_count": null,
      "outputs": []
    },
    {
      "cell_type": "code",
      "source": [
        "def parse_edgelist_multi(edge_files, tag_path):\n",
        "    graphs = []\n",
        "    for i, edge_file in enumerate(edge_files):\n",
        "        if os.stat(edge_file).st_size == 0:\n",
        "            print(f\"⚠️ Empty file: {edge_file}\")\n",
        "            continue\n",
        "        try:\n",
        "            result = parse_edgelist(edge_file, tag_path)  # ⛔️ ไม่ส่ง id_to_node แล้ว\n",
        "            if isinstance(result, tuple):\n",
        "                g = result[0]\n",
        "            else:\n",
        "                g = result\n",
        "            if hasattr(g, 'ntypes'):\n",
        "                graphs.append(g)\n",
        "            else:\n",
        "                print(f\"⚠️ Not a valid DGLGraph: {edge_file}\")\n",
        "        except Exception as e:\n",
        "            print(f\"❌ Error parsing {edge_file}: {e}\")\n",
        "    print(f\"📎 Merging {len(graphs)} graphs...\")\n",
        "    if not graphs:\n",
        "        raise ValueError(\"No valid graphs to merge.\")\n",
        "    return dgl.merge(graphs)\n",
        "\n"
      ],
      "metadata": {
        "id": "f5D0eAyKkm6d"
      },
      "execution_count": null,
      "outputs": []
    },
    {
      "cell_type": "code",
      "source": [
        "def load_graph_data():\n",
        "    data_dir = './data'\n",
        "    edge_files = glob.glob(os.path.join(data_dir, 'relation_*_edgelist.csv'))\n",
        "    tag_path = os.path.join(data_dir, 'tags.csv')\n",
        "\n",
        "    print(f\"🧩 Found {len(edge_files)} edge files\")\n",
        "\n",
        "    g = parse_edgelist_multi(edge_files, tag_path)\n",
        "    features = get_features(g)\n",
        "    labels = get_labels(g, 'TransactionID', tag_path)\n",
        "    test_mask = g.ndata['target']\n",
        "    user_type = 'TransactionID'\n",
        "\n",
        "    return g, features, labels, test_mask, user_type\n"
      ],
      "metadata": {
        "id": "jGJLyDNrkoBw"
      },
      "execution_count": null,
      "outputs": []
    },
    {
      "cell_type": "code",
      "source": [
        "# ✅ Objective สำหรับ Optuna\n",
        "def objective(trial):\n",
        "    params = {\n",
        "        'lr': trial.suggest_float('lr', 1e-4, 1e-2, log=True),\n",
        "        'n_hidden': trial.suggest_categorical('n_hidden', [16, 32, 64]),\n",
        "        'n_layers': trial.suggest_int('n_layers', 1, 3),\n",
        "        'embedding_size': trial.suggest_categorical('embedding_size', [64, 128, 256]),\n",
        "        'dropout': trial.suggest_float('dropout', 0.1, 0.5),\n",
        "        'weight_decay': trial.suggest_float('weight_decay', 1e-6, 1e-2),\n",
        "        'threshold': trial.suggest_float('threshold', 0.3, 0.7),\n",
        "        'optimizer': trial.suggest_categorical('optimizer', ['adam', 'adamw'])\n",
        "    }\n",
        "\n",
        "    g, features, labels, test_mask, user_type = load_graph_data()\n",
        "    device = th.device('cuda' if th.cuda.is_available() else 'cpu')\n",
        "\n",
        "    # ✅ สร้าง target mask จาก NTYPE (ตาม node type จริง)\n",
        "    if dgl.NTYPE not in g.ndata:\n",
        "        raise ValueError(\"Graph missing dgl.NTYPE info\")\n",
        "\n",
        "    ntype_tensors = g.ndata[dgl.NTYPE]\n",
        "    user_type_id = None\n",
        "    if hasattr(g, \"ntypes\"):\n",
        "        for i, name in enumerate(g.ntypes):\n",
        "            if name == user_type:\n",
        "                user_type_id = i\n",
        "                break\n",
        "    if user_type_id is None:\n",
        "        raise ValueError(f\"user_type '{user_type}' not found in g.ntypes\")\n",
        "\n",
        "    g.ndata[\"target\"] = (ntype_tensors == user_type_id)\n",
        "\n",
        "    # ✅ สร้าง model และ optimizer\n",
        "    model = get_model(\n",
        "        {user_type: features.shape[0]},\n",
        "        [\"dummy_edge\"],\n",
        "        {\n",
        "            'n_hidden': params['n_hidden'],\n",
        "            'n_layers': params['n_layers'],\n",
        "            'embedding_size': params['embedding_size'],\n",
        "            'dropout': params['dropout']\n",
        "        },\n",
        "        features.shape[1],\n",
        "        2,\n",
        "        device\n",
        "    )\n",
        "    optimizer_cls = th.optim.Adam if params[\"optimizer\"] == \"adam\" else th.optim.AdamW\n",
        "    optimizer = optimizer_cls(model.parameters(), lr=params[\"lr\"], weight_decay=params[\"weight_decay\"])\n",
        "    loss = th.nn.CrossEntropyLoss()\n",
        "\n",
        "    initial_record()\n",
        "    model, class_preds, pred_proba = train_fg(\n",
        "        model, optimizer, loss, features, labels,\n",
        "        g, g, test_mask, device, 10, params[\"threshold\"], compute_metrics=False\n",
        "    )\n",
        "\n",
        "    _, f1, *_ = get_metrics(class_preds, pred_proba, labels.numpy(), test_mask.numpy(), './output/')\n",
        "    return f1"
      ],
      "metadata": {
        "id": "bMOJWzAlkqVj"
      },
      "execution_count": null,
      "outputs": []
    },
    {
      "cell_type": "code",
      "source": [
        "if __name__ == \"__main__\":\n",
        "    study = optuna.create_study(direction=\"maximize\", study_name=\"gnn_realdata\")\n",
        "    study.optimize(objective, n_trials=30)\n",
        "    print(\"Best F1:\", study.best_value)\n",
        "    print(\"Best Params:\", study.best_trial.params)"
      ],
      "metadata": {
        "id": "81tNqoR3k3Ib"
      },
      "execution_count": null,
      "outputs": []
    },
    {
      "cell_type": "code",
      "source": [
        "result = load_graph_data()\n",
        "print(len(result), result)\n"
      ],
      "metadata": {
        "id": "oPf36zj2Ye8U"
      },
      "execution_count": null,
      "outputs": []
    }
  ]
}